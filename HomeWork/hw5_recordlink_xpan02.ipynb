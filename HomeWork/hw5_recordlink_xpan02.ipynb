{
 "cells": [
  {
   "cell_type": "markdown",
   "metadata": {},
   "source": [
    "<div align=right>\n",
    "Winter 2025<br>\n",
    "Nardin<br>\n",
    "HW5\n",
    "</div>\n",
    "\n",
    "\n",
    "<font color='darkblue'> <h2 align=center> Homework 5: Record Linkage (with `recordlinkage` library) </h2> </font>"
   ]
  },
  {
   "cell_type": "markdown",
   "metadata": {},
   "source": [
    "### Instructions\n",
    "\n",
    "In class, we used `fodor.txt` and `zagat.txt` to illustrate the record linkage pipeline. **The goal of this homework is to further practice using the `recordlinkage` library with the same data we used in class. Complete all questions below with both code and written text (in Markdown).** \n",
    "\n",
    "Please remember: \n",
    "* Submit on Gradescope your Jupyter notebook with the homework completed and the output of your code visible. Ensure the file is not too large for Gradescope. Do not submit the data, we only need the notebook.\n",
    "* HWs must be completed individually and are graded on a Pass-Fail basis. Before submitting, see the Syllabus for homework policies (what qualifies as a \"Pass\", deadlines, regrading, etc.)\n",
    "* At the end of the notebook include the resources you consulted, and some reflections on what you learned. **Submissions without resources and reflections will automatically be graded as \"Fail\"**"
   ]
  },
  {
   "cell_type": "markdown",
   "metadata": {},
   "source": [
    "### Questions"
   ]
  },
  {
   "cell_type": "markdown",
   "metadata": {},
   "source": [
    "<b>Question 1: Load the required libraries, load both datasets in Pandas, and pre-process/clean them</b> \n",
    "\n",
    "* Your input should be the in-class datasets: `fodor.txt` and `zagat.txt`.\n",
    "* Your output should be the two datasets cleaned and standardized, ready to be used for record linkage.\n",
    "* In class, we illustrated pre-processing data using the zagat dataset. Your code should not copy/paste the code shown in class: use a different approach or improve the code illustrated in class, and apply it to both datasets. Remember the trade off between time and results.\n",
    "* Add a few sentences (in Markdown) to explain your data-preprocessing strategy/choices."
   ]
  },
  {
   "cell_type": "markdown",
   "metadata": {},
   "source": [
    "**Explanation:**\n",
    "\n",
    "For the step of pre-process, after using pd.read_csv and .isna().sum() to screen our data, I changed a regular expression from r\"([^\\d]*)(\\d.*)(\\..*)\" to \"(.*?)(\\d+.*?)(\\s*\\w+\\s*\\w+\\s*\\w*$)\".\n",
    "\n",
    "After parsing the string into name, street, and city, we furthur investigate if any input that did not follow the pattern and observe. Then, I fixed those fixable and drop those ambiguous or incomplete inputs."
   ]
  },
  {
   "cell_type": "code",
   "execution_count": 1,
   "metadata": {},
   "outputs": [],
   "source": [
    "import re\n",
    "import pandas as pd\n",
    "import jellyfish\n",
    "import recordlinkage"
   ]
  },
  {
   "cell_type": "code",
   "execution_count": 2,
   "metadata": {},
   "outputs": [
    {
     "name": "stdout",
     "output_type": "stream",
     "text": [
      "533\n"
     ]
    },
    {
     "data": {
      "text/html": [
       "<div>\n",
       "<style scoped>\n",
       "    .dataframe tbody tr th:only-of-type {\n",
       "        vertical-align: middle;\n",
       "    }\n",
       "\n",
       "    .dataframe tbody tr th {\n",
       "        vertical-align: top;\n",
       "    }\n",
       "\n",
       "    .dataframe thead th {\n",
       "        text-align: right;\n",
       "    }\n",
       "</style>\n",
       "<table border=\"1\" class=\"dataframe\">\n",
       "  <thead>\n",
       "    <tr style=\"text-align: right;\">\n",
       "      <th></th>\n",
       "      <th>0</th>\n",
       "    </tr>\n",
       "  </thead>\n",
       "  <tbody>\n",
       "    <tr>\n",
       "      <th>0</th>\n",
       "      <td>Adriano's Ristorante 2930 Beverly Glen Circle ...</td>\n",
       "    </tr>\n",
       "    <tr>\n",
       "      <th>1</th>\n",
       "      <td>Arnie Morton's of Chicago 435 S. La Cienega Bl...</td>\n",
       "    </tr>\n",
       "    <tr>\n",
       "      <th>2</th>\n",
       "      <td>Art's Delicatessen 12224 Ventura Blvd. Studio ...</td>\n",
       "    </tr>\n",
       "    <tr>\n",
       "      <th>3</th>\n",
       "      <td>Barney Greengrass 9570 Wilshire Blvd. Beverly ...</td>\n",
       "    </tr>\n",
       "    <tr>\n",
       "      <th>4</th>\n",
       "      <td>Beaurivage 26025 Pacific Coast Hwy. Malibu</td>\n",
       "    </tr>\n",
       "  </tbody>\n",
       "</table>\n",
       "</div>"
      ],
      "text/plain": [
       "                                                   0\n",
       "0  Adriano's Ristorante 2930 Beverly Glen Circle ...\n",
       "1  Arnie Morton's of Chicago 435 S. La Cienega Bl...\n",
       "2  Art's Delicatessen 12224 Ventura Blvd. Studio ...\n",
       "3  Barney Greengrass 9570 Wilshire Blvd. Beverly ...\n",
       "4        Beaurivage 26025 Pacific Coast Hwy. Malibu "
      ]
     },
     "execution_count": 2,
     "metadata": {},
     "output_type": "execute_result"
    }
   ],
   "source": [
    "fodor = pd.read_csv(\"fodor.txt\", header = None)\n",
    "print(len(fodor.index))\n",
    "fodor.head()"
   ]
  },
  {
   "cell_type": "code",
   "execution_count": 3,
   "metadata": {},
   "outputs": [
    {
     "name": "stdout",
     "output_type": "stream",
     "text": [
      "331\n"
     ]
    },
    {
     "data": {
      "text/html": [
       "<div>\n",
       "<style scoped>\n",
       "    .dataframe tbody tr th:only-of-type {\n",
       "        vertical-align: middle;\n",
       "    }\n",
       "\n",
       "    .dataframe tbody tr th {\n",
       "        vertical-align: top;\n",
       "    }\n",
       "\n",
       "    .dataframe thead th {\n",
       "        text-align: right;\n",
       "    }\n",
       "</style>\n",
       "<table border=\"1\" class=\"dataframe\">\n",
       "  <thead>\n",
       "    <tr style=\"text-align: right;\">\n",
       "      <th></th>\n",
       "      <th>0</th>\n",
       "    </tr>\n",
       "  </thead>\n",
       "  <tbody>\n",
       "    <tr>\n",
       "      <th>0</th>\n",
       "      <td>Apple Pan  The 10801 W. Pico Blvd. West LA</td>\n",
       "    </tr>\n",
       "    <tr>\n",
       "      <th>1</th>\n",
       "      <td>Arnie Morton's of Chicago 435 S. La Cienega Bl...</td>\n",
       "    </tr>\n",
       "    <tr>\n",
       "      <th>2</th>\n",
       "      <td>Art's Deli 12224 Ventura Blvd. Studio City</td>\n",
       "    </tr>\n",
       "    <tr>\n",
       "      <th>3</th>\n",
       "      <td>Asahi Ramen 2027 Sawtelle Blvd. West LA</td>\n",
       "    </tr>\n",
       "    <tr>\n",
       "      <th>4</th>\n",
       "      <td>Baja Fresh 3345 Kimber Dr. Westlake Village</td>\n",
       "    </tr>\n",
       "  </tbody>\n",
       "</table>\n",
       "</div>"
      ],
      "text/plain": [
       "                                                   0\n",
       "0        Apple Pan  The 10801 W. Pico Blvd. West LA \n",
       "1  Arnie Morton's of Chicago 435 S. La Cienega Bl...\n",
       "2        Art's Deli 12224 Ventura Blvd. Studio City \n",
       "3           Asahi Ramen 2027 Sawtelle Blvd. West LA \n",
       "4       Baja Fresh 3345 Kimber Dr. Westlake Village "
      ]
     },
     "execution_count": 3,
     "metadata": {},
     "output_type": "execute_result"
    }
   ],
   "source": [
    "zagat = pd.read_csv(\"zagat.txt\", header = None)\n",
    "print(len(zagat))\n",
    "zagat[:5]"
   ]
  },
  {
   "cell_type": "code",
   "execution_count": 4,
   "metadata": {},
   "outputs": [],
   "source": [
    "# my_reg = (r'([^\\d]*)(\\d.*)(\\..*)')\n",
    "my_reg = r'(.*?)(\\d+.*?)(\\s*\\w+\\s*\\w+\\s*\\w*$)'"
   ]
  },
  {
   "cell_type": "code",
   "execution_count": 5,
   "metadata": {},
   "outputs": [
    {
     "data": {
      "text/html": [
       "<div>\n",
       "<style scoped>\n",
       "    .dataframe tbody tr th:only-of-type {\n",
       "        vertical-align: middle;\n",
       "    }\n",
       "\n",
       "    .dataframe tbody tr th {\n",
       "        vertical-align: top;\n",
       "    }\n",
       "\n",
       "    .dataframe thead th {\n",
       "        text-align: right;\n",
       "    }\n",
       "</style>\n",
       "<table border=\"1\" class=\"dataframe\">\n",
       "  <thead>\n",
       "    <tr style=\"text-align: right;\">\n",
       "      <th></th>\n",
       "      <th>0</th>\n",
       "      <th>1</th>\n",
       "      <th>2</th>\n",
       "    </tr>\n",
       "  </thead>\n",
       "  <tbody>\n",
       "    <tr>\n",
       "      <th>0</th>\n",
       "      <td>Apple Pan  The</td>\n",
       "      <td>10801 W. Pico Blvd.</td>\n",
       "      <td>West LA</td>\n",
       "    </tr>\n",
       "    <tr>\n",
       "      <th>1</th>\n",
       "      <td>Arnie Morton's of Chicago</td>\n",
       "      <td>435 S. La Cienega Blvd.</td>\n",
       "      <td>Los Angeles</td>\n",
       "    </tr>\n",
       "    <tr>\n",
       "      <th>2</th>\n",
       "      <td>Art's Deli</td>\n",
       "      <td>12224 Ventura Blvd.</td>\n",
       "      <td>Studio City</td>\n",
       "    </tr>\n",
       "    <tr>\n",
       "      <th>3</th>\n",
       "      <td>Asahi Ramen</td>\n",
       "      <td>2027 Sawtelle Blvd.</td>\n",
       "      <td>West LA</td>\n",
       "    </tr>\n",
       "    <tr>\n",
       "      <th>4</th>\n",
       "      <td>Baja Fresh</td>\n",
       "      <td>3345 Kimber Dr.</td>\n",
       "      <td>Westlake Village</td>\n",
       "    </tr>\n",
       "  </tbody>\n",
       "</table>\n",
       "</div>"
      ],
      "text/plain": [
       "                            0                        1                   2\n",
       "0             Apple Pan  The       10801 W. Pico Blvd.            West LA \n",
       "1  Arnie Morton's of Chicago   435 S. La Cienega Blvd.        Los Angeles \n",
       "2                 Art's Deli       12224 Ventura Blvd.        Studio City \n",
       "3                Asahi Ramen       2027 Sawtelle Blvd.            West LA \n",
       "4                 Baja Fresh           3345 Kimber Dr.   Westlake Village "
      ]
     },
     "execution_count": 5,
     "metadata": {},
     "output_type": "execute_result"
    }
   ],
   "source": [
    "zagat_df = zagat.iloc[:, 0].str.extract(my_reg, expand=True)\n",
    "zagat_df.head()"
   ]
  },
  {
   "cell_type": "code",
   "execution_count": 6,
   "metadata": {},
   "outputs": [
    {
     "data": {
      "text/html": [
       "<div>\n",
       "<style scoped>\n",
       "    .dataframe tbody tr th:only-of-type {\n",
       "        vertical-align: middle;\n",
       "    }\n",
       "\n",
       "    .dataframe tbody tr th {\n",
       "        vertical-align: top;\n",
       "    }\n",
       "\n",
       "    .dataframe thead th {\n",
       "        text-align: right;\n",
       "    }\n",
       "</style>\n",
       "<table border=\"1\" class=\"dataframe\">\n",
       "  <thead>\n",
       "    <tr style=\"text-align: right;\">\n",
       "      <th></th>\n",
       "      <th>0</th>\n",
       "      <th>1</th>\n",
       "      <th>2</th>\n",
       "    </tr>\n",
       "  </thead>\n",
       "  <tbody>\n",
       "    <tr>\n",
       "      <th>0</th>\n",
       "      <td>Adriano's Ristorante</td>\n",
       "      <td>2930 Beverly Glen Circle</td>\n",
       "      <td>Los Angeles</td>\n",
       "    </tr>\n",
       "    <tr>\n",
       "      <th>1</th>\n",
       "      <td>Arnie Morton's of Chicago</td>\n",
       "      <td>435 S. La Cienega Blvd.</td>\n",
       "      <td>Los Angeles</td>\n",
       "    </tr>\n",
       "    <tr>\n",
       "      <th>2</th>\n",
       "      <td>Art's Delicatessen</td>\n",
       "      <td>12224 Ventura Blvd.</td>\n",
       "      <td>Studio City</td>\n",
       "    </tr>\n",
       "    <tr>\n",
       "      <th>3</th>\n",
       "      <td>Barney Greengrass</td>\n",
       "      <td>9570 Wilshire Blvd.</td>\n",
       "      <td>Beverly Hills</td>\n",
       "    </tr>\n",
       "    <tr>\n",
       "      <th>4</th>\n",
       "      <td>Beaurivage</td>\n",
       "      <td>26025 Pacific Coast Hwy.</td>\n",
       "      <td>Malibu</td>\n",
       "    </tr>\n",
       "  </tbody>\n",
       "</table>\n",
       "</div>"
      ],
      "text/plain": [
       "                            0                         1                2\n",
       "0       Adriano's Ristorante   2930 Beverly Glen Circle     Los Angeles \n",
       "1  Arnie Morton's of Chicago    435 S. La Cienega Blvd.     Los Angeles \n",
       "2         Art's Delicatessen        12224 Ventura Blvd.     Studio City \n",
       "3          Barney Greengrass        9570 Wilshire Blvd.   Beverly Hills \n",
       "4                 Beaurivage   26025 Pacific Coast Hwy.          Malibu "
      ]
     },
     "execution_count": 6,
     "metadata": {},
     "output_type": "execute_result"
    }
   ],
   "source": [
    "fodor_df = fodor.iloc[:,0].str.extract(my_reg, expand=True)\n",
    "fodor_df.head()"
   ]
  },
  {
   "cell_type": "code",
   "execution_count": 7,
   "metadata": {},
   "outputs": [
    {
     "name": "stdout",
     "output_type": "stream",
     "text": [
      "0    9\n",
      "1    9\n",
      "2    9\n",
      "dtype: int64\n",
      "0    3\n",
      "1    3\n",
      "2    3\n",
      "dtype: int64\n"
     ]
    }
   ],
   "source": [
    "# count null records\n",
    "print(fodor_df.isna().sum())\n",
    "print(zagat_df.isna().sum())"
   ]
  },
  {
   "cell_type": "markdown",
   "metadata": {},
   "source": [
    "**Zagat**"
   ]
  },
  {
   "cell_type": "code",
   "execution_count": 8,
   "metadata": {},
   "outputs": [
    {
     "name": "stdout",
     "output_type": "stream",
     "text": [
      "<class 'pandas.core.series.Series'>\n",
      "48      48\n",
      "150    150\n",
      "176    176\n",
      "dtype: int64\n"
     ]
    }
   ],
   "source": [
    "# check these problematic records\n",
    "errors_za = zagat_df[zagat_df[0].isnull()].index.to_series()\n",
    "print(type(errors_za))\n",
    "print(errors_za)"
   ]
  },
  {
   "cell_type": "code",
   "execution_count": 9,
   "metadata": {},
   "outputs": [
    {
     "data": {
      "text/html": [
       "<div>\n",
       "<style scoped>\n",
       "    .dataframe tbody tr th:only-of-type {\n",
       "        vertical-align: middle;\n",
       "    }\n",
       "\n",
       "    .dataframe tbody tr th {\n",
       "        vertical-align: top;\n",
       "    }\n",
       "\n",
       "    .dataframe thead th {\n",
       "        text-align: right;\n",
       "    }\n",
       "</style>\n",
       "<table border=\"1\" class=\"dataframe\">\n",
       "  <thead>\n",
       "    <tr style=\"text-align: right;\">\n",
       "      <th></th>\n",
       "      <th>0</th>\n",
       "    </tr>\n",
       "  </thead>\n",
       "  <tbody>\n",
       "    <tr>\n",
       "      <th>48</th>\n",
       "      <td>La Serenata de Garibaldi 1842 E. First St. Boyle Hts.</td>\n",
       "    </tr>\n",
       "    <tr>\n",
       "      <th>150</th>\n",
       "      <td>Oyster Bar lower level New York City</td>\n",
       "    </tr>\n",
       "    <tr>\n",
       "      <th>176</th>\n",
       "      <td>Tavern on the Green Central Park West New York City</td>\n",
       "    </tr>\n",
       "  </tbody>\n",
       "</table>\n",
       "</div>"
      ],
      "text/plain": [
       "                                                          0\n",
       "48   La Serenata de Garibaldi 1842 E. First St. Boyle Hts. \n",
       "150                   Oyster Bar lower level New York City \n",
       "176    Tavern on the Green Central Park West New York City "
      ]
     },
     "execution_count": 9,
     "metadata": {},
     "output_type": "execute_result"
    }
   ],
   "source": [
    "# look them up in original zagat data to understand why regex did not work on them\n",
    "pd.options.display.max_colwidth = 100\n",
    "zagat.iloc[errors_za]"
   ]
  },
  {
   "cell_type": "code",
   "execution_count": 10,
   "metadata": {},
   "outputs": [
    {
     "data": {
      "text/html": [
       "<div>\n",
       "<style scoped>\n",
       "    .dataframe tbody tr th:only-of-type {\n",
       "        vertical-align: middle;\n",
       "    }\n",
       "\n",
       "    .dataframe tbody tr th {\n",
       "        vertical-align: top;\n",
       "    }\n",
       "\n",
       "    .dataframe thead th {\n",
       "        text-align: right;\n",
       "    }\n",
       "</style>\n",
       "<table border=\"1\" class=\"dataframe\">\n",
       "  <thead>\n",
       "    <tr style=\"text-align: right;\">\n",
       "      <th></th>\n",
       "      <th>0</th>\n",
       "      <th>1</th>\n",
       "      <th>2</th>\n",
       "    </tr>\n",
       "  </thead>\n",
       "  <tbody>\n",
       "    <tr>\n",
       "      <th>48</th>\n",
       "      <td>La Serenata de Garibaldi</td>\n",
       "      <td>1842 E. First St.</td>\n",
       "      <td>Boyle Hts.</td>\n",
       "    </tr>\n",
       "    <tr>\n",
       "      <th>150</th>\n",
       "      <td>NaN</td>\n",
       "      <td>NaN</td>\n",
       "      <td>NaN</td>\n",
       "    </tr>\n",
       "    <tr>\n",
       "      <th>176</th>\n",
       "      <td>NaN</td>\n",
       "      <td>NaN</td>\n",
       "      <td>NaN</td>\n",
       "    </tr>\n",
       "  </tbody>\n",
       "</table>\n",
       "</div>"
      ],
      "text/plain": [
       "                             0                   1           2\n",
       "48   La Serenata de Garibaldi   1842 E. First St.   Boyle Hts.\n",
       "150                        NaN                 NaN         NaN\n",
       "176                        NaN                 NaN         NaN"
      ]
     },
     "execution_count": 10,
     "metadata": {},
     "output_type": "execute_result"
    }
   ],
   "source": [
    "# fix it \n",
    "err_df_za = zagat.iloc[errors_za]\n",
    "\n",
    "# with another regex\n",
    "new_regex = r\"([^\\d]*)(\\d.*)(New York City|Boyle Hts.)\"\n",
    "err_df_za[0].str.extract(new_regex, expand=True)"
   ]
  },
  {
   "cell_type": "code",
   "execution_count": 11,
   "metadata": {},
   "outputs": [
    {
     "data": {
      "text/html": [
       "<div>\n",
       "<style scoped>\n",
       "    .dataframe tbody tr th:only-of-type {\n",
       "        vertical-align: middle;\n",
       "    }\n",
       "\n",
       "    .dataframe tbody tr th {\n",
       "        vertical-align: top;\n",
       "    }\n",
       "\n",
       "    .dataframe thead th {\n",
       "        text-align: right;\n",
       "    }\n",
       "</style>\n",
       "<table border=\"1\" class=\"dataframe\">\n",
       "  <thead>\n",
       "    <tr style=\"text-align: right;\">\n",
       "      <th></th>\n",
       "      <th>0</th>\n",
       "      <th>1</th>\n",
       "      <th>2</th>\n",
       "    </tr>\n",
       "  </thead>\n",
       "  <tbody>\n",
       "    <tr>\n",
       "      <th>48</th>\n",
       "      <td>La Serenata de Garibaldi</td>\n",
       "      <td>1842 E. First St.</td>\n",
       "      <td>Boyle Hts.</td>\n",
       "    </tr>\n",
       "    <tr>\n",
       "      <th>150</th>\n",
       "      <td>NaN</td>\n",
       "      <td>NaN</td>\n",
       "      <td>NaN</td>\n",
       "    </tr>\n",
       "    <tr>\n",
       "      <th>176</th>\n",
       "      <td>NaN</td>\n",
       "      <td>NaN</td>\n",
       "      <td>NaN</td>\n",
       "    </tr>\n",
       "  </tbody>\n",
       "</table>\n",
       "</div>"
      ],
      "text/plain": [
       "                             0                   1           2\n",
       "48   La Serenata de Garibaldi   1842 E. First St.   Boyle Hts.\n",
       "150                        NaN                 NaN         NaN\n",
       "176                        NaN                 NaN         NaN"
      ]
     },
     "execution_count": 11,
     "metadata": {},
     "output_type": "execute_result"
    }
   ],
   "source": [
    "# apply\n",
    "err_df_za = err_df_za[0].str.extract(new_regex, expand=True)\n",
    "err_df_za.head()"
   ]
  },
  {
   "cell_type": "code",
   "execution_count": 12,
   "metadata": {},
   "outputs": [
    {
     "name": "stdout",
     "output_type": "stream",
     "text": [
      "       0    1    2\n",
      "150  NaN  NaN  NaN\n",
      "176  NaN  NaN  NaN\n"
     ]
    }
   ],
   "source": [
    "# check\n",
    "print(err_df_za[err_df_za[0].isna()])"
   ]
  },
  {
   "cell_type": "code",
   "execution_count": 13,
   "metadata": {},
   "outputs": [],
   "source": [
    "# update original data\n",
    "zagat_df.update(err_df_za, join='left', overwrite=True)"
   ]
  },
  {
   "cell_type": "code",
   "execution_count": 14,
   "metadata": {},
   "outputs": [
    {
     "name": "stdout",
     "output_type": "stream",
     "text": [
      "0    2\n",
      "1    2\n",
      "2    2\n",
      "dtype: int64\n"
     ]
    }
   ],
   "source": [
    "# check\n",
    "print(zagat_df.isna().sum())"
   ]
  },
  {
   "cell_type": "code",
   "execution_count": 15,
   "metadata": {},
   "outputs": [],
   "source": [
    "zagat_df.dropna(inplace=True)"
   ]
  },
  {
   "cell_type": "markdown",
   "metadata": {},
   "source": [
    "**Fordor**"
   ]
  },
  {
   "cell_type": "code",
   "execution_count": 16,
   "metadata": {},
   "outputs": [
    {
     "name": "stdout",
     "output_type": "stream",
     "text": [
      "356    356\n",
      "371    371\n",
      "372    372\n",
      "378    378\n",
      "396    396\n",
      "461    461\n",
      "462    462\n",
      "464    464\n",
      "491    491\n",
      "dtype: int64\n"
     ]
    }
   ],
   "source": [
    "# check these problematic records\n",
    "errors_fo = fodor_df[fodor_df[0].isnull()].index.to_series()\n",
    "print(errors_fo)"
   ]
  },
  {
   "cell_type": "code",
   "execution_count": 17,
   "metadata": {},
   "outputs": [
    {
     "data": {
      "text/html": [
       "<div>\n",
       "<style scoped>\n",
       "    .dataframe tbody tr th:only-of-type {\n",
       "        vertical-align: middle;\n",
       "    }\n",
       "\n",
       "    .dataframe tbody tr th {\n",
       "        vertical-align: top;\n",
       "    }\n",
       "\n",
       "    .dataframe thead th {\n",
       "        text-align: right;\n",
       "    }\n",
       "</style>\n",
       "<table border=\"1\" class=\"dataframe\">\n",
       "  <thead>\n",
       "    <tr style=\"text-align: right;\">\n",
       "      <th></th>\n",
       "      <th>0</th>\n",
       "    </tr>\n",
       "  </thead>\n",
       "  <tbody>\n",
       "    <tr>\n",
       "      <th>356</th>\n",
       "      <td>Dante's Down the Hatch  Underground Underground Mall  Underground Atlanta Atlanta</td>\n",
       "    </tr>\n",
       "    <tr>\n",
       "      <th>371</th>\n",
       "      <td>La Grotta at Ravinia Dunwoody Rd.  Holiday Inn/Crowne Plaza at Ravinia  Dunwoody Atlanta</td>\n",
       "    </tr>\n",
       "    <tr>\n",
       "      <th>372</th>\n",
       "      <td>Little Szechuan C Buford Hwy.  Northwoods Plaza  Doraville Atlanta</td>\n",
       "    </tr>\n",
       "    <tr>\n",
       "      <th>378</th>\n",
       "      <td>Mi Spia Dunwoody Rd.  Park Place  across from Perimeter Mall  Dunwoody Atlanta</td>\n",
       "    </tr>\n",
       "    <tr>\n",
       "      <th>396</th>\n",
       "      <td>Toulouse B Peachtree Rd. Atlanta</td>\n",
       "    </tr>\n",
       "    <tr>\n",
       "      <th>461</th>\n",
       "      <td>Garden Court Market and New Montgomery Sts. San Francisco</td>\n",
       "    </tr>\n",
       "    <tr>\n",
       "      <th>462</th>\n",
       "      <td>Gaylord's Ghirardelli Sq. San Francisco</td>\n",
       "    </tr>\n",
       "    <tr>\n",
       "      <th>464</th>\n",
       "      <td>Greens Bldg. A Fort Mason San Francisco</td>\n",
       "    </tr>\n",
       "    <tr>\n",
       "      <th>491</th>\n",
       "      <td>McCormick &amp; Kuleto's Ghirardelli Sq. San Francisco</td>\n",
       "    </tr>\n",
       "  </tbody>\n",
       "</table>\n",
       "</div>"
      ],
      "text/plain": [
       "                                                                                             0\n",
       "356         Dante's Down the Hatch  Underground Underground Mall  Underground Atlanta Atlanta \n",
       "371  La Grotta at Ravinia Dunwoody Rd.  Holiday Inn/Crowne Plaza at Ravinia  Dunwoody Atlanta \n",
       "372                        Little Szechuan C Buford Hwy.  Northwoods Plaza  Doraville Atlanta \n",
       "378            Mi Spia Dunwoody Rd.  Park Place  across from Perimeter Mall  Dunwoody Atlanta \n",
       "396                                                          Toulouse B Peachtree Rd. Atlanta \n",
       "461                                 Garden Court Market and New Montgomery Sts. San Francisco \n",
       "462                                                   Gaylord's Ghirardelli Sq. San Francisco \n",
       "464                                                   Greens Bldg. A Fort Mason San Francisco \n",
       "491                                        McCormick & Kuleto's Ghirardelli Sq. San Francisco "
      ]
     },
     "execution_count": 17,
     "metadata": {},
     "output_type": "execute_result"
    }
   ],
   "source": [
    "# look them up in original fodor data to understand why regex did not work on them\n",
    "pd.options.display.max_colwidth = 100\n",
    "fodor.iloc[errors_fo]"
   ]
  },
  {
   "cell_type": "code",
   "execution_count": 18,
   "metadata": {},
   "outputs": [],
   "source": [
    "fodor_df.dropna(inplace=True)"
   ]
  },
  {
   "cell_type": "code",
   "execution_count": 19,
   "metadata": {},
   "outputs": [
    {
     "name": "stdout",
     "output_type": "stream",
     "text": [
      "524\n",
      "329\n"
     ]
    }
   ],
   "source": [
    "print(len(fodor_df))\n",
    "print(len(zagat_df))"
   ]
  },
  {
   "cell_type": "code",
   "execution_count": 20,
   "metadata": {},
   "outputs": [],
   "source": [
    "from recordlinkage.standardise import clean"
   ]
  },
  {
   "cell_type": "code",
   "execution_count": 21,
   "metadata": {},
   "outputs": [
    {
     "data": {
      "text/html": [
       "<div>\n",
       "<style scoped>\n",
       "    .dataframe tbody tr th:only-of-type {\n",
       "        vertical-align: middle;\n",
       "    }\n",
       "\n",
       "    .dataframe tbody tr th {\n",
       "        vertical-align: top;\n",
       "    }\n",
       "\n",
       "    .dataframe thead th {\n",
       "        text-align: right;\n",
       "    }\n",
       "</style>\n",
       "<table border=\"1\" class=\"dataframe\">\n",
       "  <thead>\n",
       "    <tr style=\"text-align: right;\">\n",
       "      <th></th>\n",
       "      <th>0</th>\n",
       "      <th>1</th>\n",
       "      <th>2</th>\n",
       "      <th>name</th>\n",
       "      <th>address</th>\n",
       "      <th>city</th>\n",
       "    </tr>\n",
       "  </thead>\n",
       "  <tbody>\n",
       "    <tr>\n",
       "      <th>0</th>\n",
       "      <td>Apple Pan  The</td>\n",
       "      <td>10801 W. Pico Blvd.</td>\n",
       "      <td>West LA</td>\n",
       "      <td>apple pan the</td>\n",
       "      <td>10801 w pico blvd</td>\n",
       "      <td>west la</td>\n",
       "    </tr>\n",
       "    <tr>\n",
       "      <th>1</th>\n",
       "      <td>Arnie Morton's of Chicago</td>\n",
       "      <td>435 S. La Cienega Blvd.</td>\n",
       "      <td>Los Angeles</td>\n",
       "      <td>arnie mortons of chicago</td>\n",
       "      <td>435 s la cienega blvd</td>\n",
       "      <td>los angeles</td>\n",
       "    </tr>\n",
       "    <tr>\n",
       "      <th>2</th>\n",
       "      <td>Art's Deli</td>\n",
       "      <td>12224 Ventura Blvd.</td>\n",
       "      <td>Studio City</td>\n",
       "      <td>arts deli</td>\n",
       "      <td>12224 ventura blvd</td>\n",
       "      <td>studio city</td>\n",
       "    </tr>\n",
       "  </tbody>\n",
       "</table>\n",
       "</div>"
      ],
      "text/plain": [
       "                            0                        1              2  \\\n",
       "0             Apple Pan  The       10801 W. Pico Blvd.       West LA    \n",
       "1  Arnie Morton's of Chicago   435 S. La Cienega Blvd.   Los Angeles    \n",
       "2                 Art's Deli       12224 Ventura Blvd.   Studio City    \n",
       "\n",
       "                       name                address         city  \n",
       "0             apple pan the      10801 w pico blvd      west la  \n",
       "1  arnie mortons of chicago  435 s la cienega blvd  los angeles  \n",
       "2                 arts deli     12224 ventura blvd  studio city  "
      ]
     },
     "execution_count": 21,
     "metadata": {},
     "output_type": "execute_result"
    }
   ],
   "source": [
    "# check data\n",
    "zagat_df[:5]\n",
    "\n",
    "# apply clean() to each columns of zagat_df\n",
    "zagat_df['name'] = clean(zagat_df[0])\n",
    "zagat_df['address'] = clean(zagat_df[1])\n",
    "zagat_df['city'] = clean(zagat_df[2])\n",
    "zagat_df.head(3)"
   ]
  },
  {
   "cell_type": "code",
   "execution_count": 22,
   "metadata": {},
   "outputs": [
    {
     "data": {
      "text/html": [
       "<div>\n",
       "<style scoped>\n",
       "    .dataframe tbody tr th:only-of-type {\n",
       "        vertical-align: middle;\n",
       "    }\n",
       "\n",
       "    .dataframe tbody tr th {\n",
       "        vertical-align: top;\n",
       "    }\n",
       "\n",
       "    .dataframe thead th {\n",
       "        text-align: right;\n",
       "    }\n",
       "</style>\n",
       "<table border=\"1\" class=\"dataframe\">\n",
       "  <thead>\n",
       "    <tr style=\"text-align: right;\">\n",
       "      <th></th>\n",
       "      <th>0</th>\n",
       "      <th>1</th>\n",
       "      <th>2</th>\n",
       "      <th>name</th>\n",
       "      <th>address</th>\n",
       "      <th>city</th>\n",
       "    </tr>\n",
       "  </thead>\n",
       "  <tbody>\n",
       "    <tr>\n",
       "      <th>0</th>\n",
       "      <td>Adriano's Ristorante</td>\n",
       "      <td>2930 Beverly Glen Circle</td>\n",
       "      <td>Los Angeles</td>\n",
       "      <td>adrianos ristorante</td>\n",
       "      <td>2930 beverly glen circle</td>\n",
       "      <td>los angeles</td>\n",
       "    </tr>\n",
       "    <tr>\n",
       "      <th>1</th>\n",
       "      <td>Arnie Morton's of Chicago</td>\n",
       "      <td>435 S. La Cienega Blvd.</td>\n",
       "      <td>Los Angeles</td>\n",
       "      <td>arnie mortons of chicago</td>\n",
       "      <td>435 s la cienega blvd</td>\n",
       "      <td>los angeles</td>\n",
       "    </tr>\n",
       "    <tr>\n",
       "      <th>2</th>\n",
       "      <td>Art's Delicatessen</td>\n",
       "      <td>12224 Ventura Blvd.</td>\n",
       "      <td>Studio City</td>\n",
       "      <td>arts delicatessen</td>\n",
       "      <td>12224 ventura blvd</td>\n",
       "      <td>studio city</td>\n",
       "    </tr>\n",
       "    <tr>\n",
       "      <th>3</th>\n",
       "      <td>Barney Greengrass</td>\n",
       "      <td>9570 Wilshire Blvd.</td>\n",
       "      <td>Beverly Hills</td>\n",
       "      <td>barney greengrass</td>\n",
       "      <td>9570 wilshire blvd</td>\n",
       "      <td>beverly hills</td>\n",
       "    </tr>\n",
       "    <tr>\n",
       "      <th>4</th>\n",
       "      <td>Beaurivage</td>\n",
       "      <td>26025 Pacific Coast Hwy.</td>\n",
       "      <td>Malibu</td>\n",
       "      <td>beaurivage</td>\n",
       "      <td>26025 pacific coast hwy</td>\n",
       "      <td>malibu</td>\n",
       "    </tr>\n",
       "  </tbody>\n",
       "</table>\n",
       "</div>"
      ],
      "text/plain": [
       "                            0                         1                2  \\\n",
       "0       Adriano's Ristorante   2930 Beverly Glen Circle     Los Angeles    \n",
       "1  Arnie Morton's of Chicago    435 S. La Cienega Blvd.     Los Angeles    \n",
       "2         Art's Delicatessen        12224 Ventura Blvd.     Studio City    \n",
       "3          Barney Greengrass        9570 Wilshire Blvd.   Beverly Hills    \n",
       "4                 Beaurivage   26025 Pacific Coast Hwy.          Malibu    \n",
       "\n",
       "                       name                   address           city  \n",
       "0       adrianos ristorante  2930 beverly glen circle    los angeles  \n",
       "1  arnie mortons of chicago     435 s la cienega blvd    los angeles  \n",
       "2         arts delicatessen        12224 ventura blvd    studio city  \n",
       "3         barney greengrass        9570 wilshire blvd  beverly hills  \n",
       "4                beaurivage   26025 pacific coast hwy         malibu  "
      ]
     },
     "execution_count": 22,
     "metadata": {},
     "output_type": "execute_result"
    }
   ],
   "source": [
    "# repeat for fodor\n",
    "fodor_df[['name', 'address', 'city']] = fodor_df[[0, 1, 2]].apply(clean)\n",
    "fodor_df.head()"
   ]
  },
  {
   "cell_type": "code",
   "execution_count": 23,
   "metadata": {},
   "outputs": [
    {
     "data": {
      "text/html": [
       "<div>\n",
       "<style scoped>\n",
       "    .dataframe tbody tr th:only-of-type {\n",
       "        vertical-align: middle;\n",
       "    }\n",
       "\n",
       "    .dataframe tbody tr th {\n",
       "        vertical-align: top;\n",
       "    }\n",
       "\n",
       "    .dataframe thead th {\n",
       "        text-align: right;\n",
       "    }\n",
       "</style>\n",
       "<table border=\"1\" class=\"dataframe\">\n",
       "  <thead>\n",
       "    <tr style=\"text-align: right;\">\n",
       "      <th></th>\n",
       "      <th>name</th>\n",
       "      <th>address</th>\n",
       "      <th>city</th>\n",
       "    </tr>\n",
       "  </thead>\n",
       "  <tbody>\n",
       "    <tr>\n",
       "      <th>0</th>\n",
       "      <td>apple pan the</td>\n",
       "      <td>10801 w pico blvd</td>\n",
       "      <td>west la</td>\n",
       "    </tr>\n",
       "    <tr>\n",
       "      <th>1</th>\n",
       "      <td>arnie mortons of chicago</td>\n",
       "      <td>435 s la cienega blvd</td>\n",
       "      <td>los angeles</td>\n",
       "    </tr>\n",
       "    <tr>\n",
       "      <th>2</th>\n",
       "      <td>arts deli</td>\n",
       "      <td>12224 ventura blvd</td>\n",
       "      <td>studio city</td>\n",
       "    </tr>\n",
       "    <tr>\n",
       "      <th>3</th>\n",
       "      <td>asahi ramen</td>\n",
       "      <td>2027 sawtelle blvd</td>\n",
       "      <td>west la</td>\n",
       "    </tr>\n",
       "    <tr>\n",
       "      <th>4</th>\n",
       "      <td>baja fresh</td>\n",
       "      <td>3345 kimber dr</td>\n",
       "      <td>westlake village</td>\n",
       "    </tr>\n",
       "  </tbody>\n",
       "</table>\n",
       "</div>"
      ],
      "text/plain": [
       "                       name                address              city\n",
       "0             apple pan the      10801 w pico blvd           west la\n",
       "1  arnie mortons of chicago  435 s la cienega blvd       los angeles\n",
       "2                 arts deli     12224 ventura blvd       studio city\n",
       "3               asahi ramen     2027 sawtelle blvd           west la\n",
       "4                baja fresh         3345 kimber dr  westlake village"
      ]
     },
     "execution_count": 23,
     "metadata": {},
     "output_type": "execute_result"
    }
   ],
   "source": [
    "# create two new pd with cleaned columns \n",
    "\n",
    "# rename data \n",
    "zagat_clean = zagat_df.drop(zagat_df.columns[[0, 1, 2]], axis=1) \n",
    "fodor_clean = fodor_df.drop(fodor_df.columns[[0, 1, 2]], axis=1) \n",
    "\n",
    "# reset index\n",
    "zagat_clean = zagat_clean.reset_index(drop=True)\n",
    "fodor_clean = fodor_clean.reset_index(drop=True)\n",
    "\n",
    "zagat_clean.head()"
   ]
  },
  {
   "cell_type": "markdown",
   "metadata": {},
   "source": [
    "<b>Question 2: Select records to compare using either blocked indexing or full indexing from the `recordlinkage` library</b> \n",
    "\n",
    "* Your output should be a Pandas multiIndex object that identifies candidate links by their original indices in the two datasets being linked.\n",
    "* Add a few sentences (in Markdown) to explain your strategy/choices (e.g., explain why you chose one indexing method and not the other, and how the indexing operations work)."
   ]
  },
  {
   "cell_type": "markdown",
   "metadata": {},
   "source": [
    "**Explaination**: \n",
    "\n",
    "I chose bloked indexing of restaurant name for this step as it was more efficient than full indexing. However, it may miss some not exact match. I planned to adjust the threshold in later steps. Additionally, it used \"name\" as the block for indexing."
   ]
  },
  {
   "cell_type": "code",
   "execution_count": 25,
   "metadata": {},
   "outputs": [],
   "source": [
    "from recordlinkage.index import Block"
   ]
  },
  {
   "cell_type": "code",
   "execution_count": 26,
   "metadata": {},
   "outputs": [],
   "source": [
    "index_block = Block(left_on = \"name\", right_on = \"name\")"
   ]
  },
  {
   "cell_type": "code",
   "execution_count": 27,
   "metadata": {},
   "outputs": [],
   "source": [
    "candidate_links = index_block.index(zagat_clean, fodor_clean)"
   ]
  },
  {
   "cell_type": "code",
   "execution_count": 28,
   "metadata": {},
   "outputs": [
    {
     "data": {
      "text/plain": [
       "MultiIndex([( 1,   1),\n",
       "            ( 9, 399),\n",
       "            (15,  10),\n",
       "            (17,  13),\n",
       "            (20,  18),\n",
       "            (21,  19),\n",
       "            (28,  32),\n",
       "            (45,  42),\n",
       "            (50,  43),\n",
       "            (52,  46)],\n",
       "           )"
      ]
     },
     "execution_count": 28,
     "metadata": {},
     "output_type": "execute_result"
    }
   ],
   "source": [
    "candidate_links[:10]"
   ]
  },
  {
   "cell_type": "code",
   "execution_count": 29,
   "metadata": {},
   "outputs": [
    {
     "data": {
      "text/html": [
       "<div>\n",
       "<style scoped>\n",
       "    .dataframe tbody tr th:only-of-type {\n",
       "        vertical-align: middle;\n",
       "    }\n",
       "\n",
       "    .dataframe tbody tr th {\n",
       "        vertical-align: top;\n",
       "    }\n",
       "\n",
       "    .dataframe thead th {\n",
       "        text-align: right;\n",
       "    }\n",
       "</style>\n",
       "<table border=\"1\" class=\"dataframe\">\n",
       "  <thead>\n",
       "    <tr style=\"text-align: right;\">\n",
       "      <th></th>\n",
       "      <th>name</th>\n",
       "      <th>address</th>\n",
       "      <th>city</th>\n",
       "    </tr>\n",
       "  </thead>\n",
       "  <tbody>\n",
       "    <tr>\n",
       "      <th>1</th>\n",
       "      <td>arnie mortons of chicago</td>\n",
       "      <td>435 s la cienega blvd</td>\n",
       "      <td>los angeles</td>\n",
       "    </tr>\n",
       "    <tr>\n",
       "      <th>9</th>\n",
       "      <td>bistro</td>\n",
       "      <td>45 45 s mentor ave</td>\n",
       "      <td>pasadena</td>\n",
       "    </tr>\n",
       "    <tr>\n",
       "      <th>15</th>\n",
       "      <td>cafe bizou</td>\n",
       "      <td>14016 ventura blvd</td>\n",
       "      <td>sherman oaks</td>\n",
       "    </tr>\n",
       "  </tbody>\n",
       "</table>\n",
       "</div>"
      ],
      "text/plain": [
       "                        name                address          city\n",
       "1   arnie mortons of chicago  435 s la cienega blvd   los angeles\n",
       "9                     bistro     45 45 s mentor ave      pasadena\n",
       "15                cafe bizou     14016 ventura blvd  sherman oaks"
      ]
     },
     "execution_count": 29,
     "metadata": {},
     "output_type": "execute_result"
    }
   ],
   "source": [
    "zagat_clean.iloc[[1,9,15]]"
   ]
  },
  {
   "cell_type": "code",
   "execution_count": 206,
   "metadata": {},
   "outputs": [
    {
     "data": {
      "text/html": [
       "<div>\n",
       "<style scoped>\n",
       "    .dataframe tbody tr th:only-of-type {\n",
       "        vertical-align: middle;\n",
       "    }\n",
       "\n",
       "    .dataframe tbody tr th {\n",
       "        vertical-align: top;\n",
       "    }\n",
       "\n",
       "    .dataframe thead th {\n",
       "        text-align: right;\n",
       "    }\n",
       "</style>\n",
       "<table border=\"1\" class=\"dataframe\">\n",
       "  <thead>\n",
       "    <tr style=\"text-align: right;\">\n",
       "      <th></th>\n",
       "      <th>name</th>\n",
       "      <th>address</th>\n",
       "      <th>city</th>\n",
       "    </tr>\n",
       "  </thead>\n",
       "  <tbody>\n",
       "    <tr>\n",
       "      <th>1</th>\n",
       "      <td>arnie mortons of chicago</td>\n",
       "      <td>435 s la cienega blvd</td>\n",
       "      <td>los angeles</td>\n",
       "    </tr>\n",
       "    <tr>\n",
       "      <th>399</th>\n",
       "      <td>bistro</td>\n",
       "      <td>3400 las vegas blvd s</td>\n",
       "      <td>las vegas</td>\n",
       "    </tr>\n",
       "    <tr>\n",
       "      <th>10</th>\n",
       "      <td>cafe bizou</td>\n",
       "      <td>14016 ventura blvd</td>\n",
       "      <td>sherman oaks</td>\n",
       "    </tr>\n",
       "  </tbody>\n",
       "</table>\n",
       "</div>"
      ],
      "text/plain": [
       "                         name                address          city\n",
       "1    arnie mortons of chicago  435 s la cienega blvd   los angeles\n",
       "399                    bistro  3400 las vegas blvd s     las vegas\n",
       "10                 cafe bizou     14016 ventura blvd  sherman oaks"
      ]
     },
     "execution_count": 206,
     "metadata": {},
     "output_type": "execute_result"
    }
   ],
   "source": [
    "fodor_clean.iloc[[1, 399, 10]]"
   ]
  },
  {
   "cell_type": "markdown",
   "metadata": {},
   "source": [
    "<b>Question 3: Compare the records indexed in the previous step</b> \n",
    "\n",
    "* Rely on the library `recordlinkage` and select the distance metrics (e.g. Jaro-Winkler, etc.) that you prefer among those supported by the library. Note you could also create a custom comparison method: see [here](https://uwaterloo.ca/networks-lab/blog/post/record-comparison-recordlinkage) and slides for more.\n",
    "* Your output should be a Pandas df that stores all attribute comparisons.\n",
    "* Add a few sentences (in Markdown) to explain your strategy/choices (e.g., why you choose one metric vs. another, etc.)"
   ]
  },
  {
   "cell_type": "markdown",
   "metadata": {},
   "source": [
    "**Explaination:**\n",
    "\n",
    "This step involves calculating the similarity score between attributes and outputs. I selected the Jaro-Winkler method to measure the distance between linked records because it normalizes the score between 0 and 1, making it easier to compare. I also considered other methods, such as Levenshtein and Levenshtein-Damerau, but ultimately chose Jaro-Winkler for its normalization and suitability for this task."
   ]
  },
  {
   "cell_type": "code",
   "execution_count": 31,
   "metadata": {},
   "outputs": [],
   "source": [
    "# from recordlinkage.compare import Exact, String, Numeric, Date\n",
    "import recordlinkage.compare"
   ]
  },
  {
   "cell_type": "code",
   "execution_count": 32,
   "metadata": {},
   "outputs": [],
   "source": [
    "# create a compare object\n",
    "comparer = recordlinkage.Compare()"
   ]
  },
  {
   "cell_type": "code",
   "execution_count": 33,
   "metadata": {},
   "outputs": [
    {
     "data": {
      "text/plain": [
       "<Compare>"
      ]
     },
     "execution_count": 33,
     "metadata": {},
     "output_type": "execute_result"
    }
   ],
   "source": [
    "# compare all our columns\n",
    "comparer.string(\"name\", \"name\", method = \"jarowinkler\", label = \"jw_name\")\n",
    "comparer.string(\"address\", \"address\", method = \"jarowinkler\", label = \"jw_address\")\n",
    "comparer.string(\"city\", \"city\", method = \"jarowinkler\", label = \"jw_city\")"
   ]
  },
  {
   "cell_type": "code",
   "execution_count": 34,
   "metadata": {},
   "outputs": [
    {
     "data": {
      "text/plain": [
       "jw_name       float64\n",
       "jw_address    float64\n",
       "jw_city       float64\n",
       "dtype: object"
      ]
     },
     "execution_count": 34,
     "metadata": {},
     "output_type": "execute_result"
    }
   ],
   "source": [
    "features = comparer.compute(candidate_links, zagat_clean, fodor_clean)\n",
    "features.dtypes"
   ]
  },
  {
   "cell_type": "code",
   "execution_count": 35,
   "metadata": {},
   "outputs": [
    {
     "data": {
      "text/html": [
       "<div>\n",
       "<style scoped>\n",
       "    .dataframe tbody tr th:only-of-type {\n",
       "        vertical-align: middle;\n",
       "    }\n",
       "\n",
       "    .dataframe tbody tr th {\n",
       "        vertical-align: top;\n",
       "    }\n",
       "\n",
       "    .dataframe thead th {\n",
       "        text-align: right;\n",
       "    }\n",
       "</style>\n",
       "<table border=\"1\" class=\"dataframe\">\n",
       "  <thead>\n",
       "    <tr style=\"text-align: right;\">\n",
       "      <th></th>\n",
       "      <th></th>\n",
       "      <th>jw_name</th>\n",
       "      <th>jw_address</th>\n",
       "      <th>jw_city</th>\n",
       "    </tr>\n",
       "  </thead>\n",
       "  <tbody>\n",
       "    <tr>\n",
       "      <th>1</th>\n",
       "      <th>1</th>\n",
       "      <td>1.0</td>\n",
       "      <td>1.000000</td>\n",
       "      <td>1.000000</td>\n",
       "    </tr>\n",
       "    <tr>\n",
       "      <th>9</th>\n",
       "      <th>399</th>\n",
       "      <td>1.0</td>\n",
       "      <td>0.568783</td>\n",
       "      <td>0.648148</td>\n",
       "    </tr>\n",
       "    <tr>\n",
       "      <th>15</th>\n",
       "      <th>10</th>\n",
       "      <td>1.0</td>\n",
       "      <td>1.000000</td>\n",
       "      <td>1.000000</td>\n",
       "    </tr>\n",
       "    <tr>\n",
       "      <th>17</th>\n",
       "      <th>13</th>\n",
       "      <td>1.0</td>\n",
       "      <td>1.000000</td>\n",
       "      <td>1.000000</td>\n",
       "    </tr>\n",
       "    <tr>\n",
       "      <th>20</th>\n",
       "      <th>18</th>\n",
       "      <td>1.0</td>\n",
       "      <td>1.000000</td>\n",
       "      <td>1.000000</td>\n",
       "    </tr>\n",
       "  </tbody>\n",
       "</table>\n",
       "</div>"
      ],
      "text/plain": [
       "        jw_name  jw_address   jw_city\n",
       "1  1        1.0    1.000000  1.000000\n",
       "9  399      1.0    0.568783  0.648148\n",
       "15 10       1.0    1.000000  1.000000\n",
       "17 13       1.0    1.000000  1.000000\n",
       "20 18       1.0    1.000000  1.000000"
      ]
     },
     "execution_count": 35,
     "metadata": {},
     "output_type": "execute_result"
    }
   ],
   "source": [
    "features.head()"
   ]
  },
  {
   "cell_type": "markdown",
   "metadata": {},
   "source": [
    "<b>Question 4: Classify your records as match or unmatch</b> \n",
    "\n",
    "* Pick and apply two classification methods. You are welcome to use the same methods we have seen in class, or explore other methods. See the `recordlinkage` library documentation [here](https://recordlinkage.readthedocs.io/en/latest/ref-classifiers.html) for all available classification methods and [here](https://uwaterloo.ca/networks-lab/blog/post/record-pair-classification-recordlinkage) for more examples. Note: if you use a supervised classification method, you must create a \"gold standard\" dataset by manually identify and match a number of records from the datasets.\n",
    "* Add a few sentences (in Markdown) to explain your strategy/choices."
   ]
  },
  {
   "cell_type": "markdown",
   "metadata": {},
   "source": [
    "**Explaination:**\n",
    "\n",
    "I used both threshold-based linkage and rule-based linkage. After observing the probability score of matchings, I set threshold t contains most of the linkages as it was pretty strict upfront."
   ]
  },
  {
   "cell_type": "markdown",
   "metadata": {},
   "source": [
    "**Threshold-based Linkage:**"
   ]
  },
  {
   "cell_type": "code",
   "execution_count": 36,
   "metadata": {},
   "outputs": [
    {
     "data": {
      "text/html": [
       "<div>\n",
       "<style scoped>\n",
       "    .dataframe tbody tr th:only-of-type {\n",
       "        vertical-align: middle;\n",
       "    }\n",
       "\n",
       "    .dataframe tbody tr th {\n",
       "        vertical-align: top;\n",
       "    }\n",
       "\n",
       "    .dataframe thead th {\n",
       "        text-align: right;\n",
       "    }\n",
       "</style>\n",
       "<table border=\"1\" class=\"dataframe\">\n",
       "  <thead>\n",
       "    <tr style=\"text-align: right;\">\n",
       "      <th></th>\n",
       "      <th></th>\n",
       "      <th>jw_name</th>\n",
       "      <th>jw_address</th>\n",
       "      <th>jw_city</th>\n",
       "    </tr>\n",
       "  </thead>\n",
       "  <tbody>\n",
       "    <tr>\n",
       "      <th>1</th>\n",
       "      <th>1</th>\n",
       "      <td>1.0</td>\n",
       "      <td>1.000000</td>\n",
       "      <td>1.000000</td>\n",
       "    </tr>\n",
       "    <tr>\n",
       "      <th>9</th>\n",
       "      <th>399</th>\n",
       "      <td>1.0</td>\n",
       "      <td>0.568783</td>\n",
       "      <td>0.648148</td>\n",
       "    </tr>\n",
       "    <tr>\n",
       "      <th>15</th>\n",
       "      <th>10</th>\n",
       "      <td>1.0</td>\n",
       "      <td>1.000000</td>\n",
       "      <td>1.000000</td>\n",
       "    </tr>\n",
       "    <tr>\n",
       "      <th>17</th>\n",
       "      <th>13</th>\n",
       "      <td>1.0</td>\n",
       "      <td>1.000000</td>\n",
       "      <td>1.000000</td>\n",
       "    </tr>\n",
       "    <tr>\n",
       "      <th>20</th>\n",
       "      <th>18</th>\n",
       "      <td>1.0</td>\n",
       "      <td>1.000000</td>\n",
       "      <td>1.000000</td>\n",
       "    </tr>\n",
       "    <tr>\n",
       "      <th>...</th>\n",
       "      <th>...</th>\n",
       "      <td>...</td>\n",
       "      <td>...</td>\n",
       "      <td>...</td>\n",
       "    </tr>\n",
       "    <tr>\n",
       "      <th>301</th>\n",
       "      <th>471</th>\n",
       "      <td>1.0</td>\n",
       "      <td>1.000000</td>\n",
       "      <td>1.000000</td>\n",
       "    </tr>\n",
       "    <tr>\n",
       "      <th>303</th>\n",
       "      <th>475</th>\n",
       "      <td>1.0</td>\n",
       "      <td>1.000000</td>\n",
       "      <td>1.000000</td>\n",
       "    </tr>\n",
       "    <tr>\n",
       "      <th>309</th>\n",
       "      <th>481</th>\n",
       "      <td>1.0</td>\n",
       "      <td>1.000000</td>\n",
       "      <td>1.000000</td>\n",
       "    </tr>\n",
       "    <tr>\n",
       "      <th>315</th>\n",
       "      <th>495</th>\n",
       "      <td>1.0</td>\n",
       "      <td>1.000000</td>\n",
       "      <td>1.000000</td>\n",
       "    </tr>\n",
       "    <tr>\n",
       "      <th>318</th>\n",
       "      <th>498</th>\n",
       "      <td>1.0</td>\n",
       "      <td>1.000000</td>\n",
       "      <td>1.000000</td>\n",
       "    </tr>\n",
       "  </tbody>\n",
       "</table>\n",
       "<p>87 rows × 3 columns</p>\n",
       "</div>"
      ],
      "text/plain": [
       "         jw_name  jw_address   jw_city\n",
       "1   1        1.0    1.000000  1.000000\n",
       "9   399      1.0    0.568783  0.648148\n",
       "15  10       1.0    1.000000  1.000000\n",
       "17  13       1.0    1.000000  1.000000\n",
       "20  18       1.0    1.000000  1.000000\n",
       "...          ...         ...       ...\n",
       "301 471      1.0    1.000000  1.000000\n",
       "303 475      1.0    1.000000  1.000000\n",
       "309 481      1.0    1.000000  1.000000\n",
       "315 495      1.0    1.000000  1.000000\n",
       "318 498      1.0    1.000000  1.000000\n",
       "\n",
       "[87 rows x 3 columns]"
      ]
     },
     "execution_count": 36,
     "metadata": {},
     "output_type": "execute_result"
    }
   ],
   "source": [
    "# check our \"features\" variable\n",
    "features"
   ]
  },
  {
   "cell_type": "code",
   "execution_count": 37,
   "metadata": {},
   "outputs": [
    {
     "data": {
      "text/html": [
       "<div>\n",
       "<style scoped>\n",
       "    .dataframe tbody tr th:only-of-type {\n",
       "        vertical-align: middle;\n",
       "    }\n",
       "\n",
       "    .dataframe tbody tr th {\n",
       "        vertical-align: top;\n",
       "    }\n",
       "\n",
       "    .dataframe thead th {\n",
       "        text-align: right;\n",
       "    }\n",
       "</style>\n",
       "<table border=\"1\" class=\"dataframe\">\n",
       "  <thead>\n",
       "    <tr style=\"text-align: right;\">\n",
       "      <th></th>\n",
       "      <th></th>\n",
       "      <th>jw_name</th>\n",
       "      <th>jw_address</th>\n",
       "      <th>jw_city</th>\n",
       "      <th>total</th>\n",
       "    </tr>\n",
       "  </thead>\n",
       "  <tbody>\n",
       "    <tr>\n",
       "      <th>1</th>\n",
       "      <th>1</th>\n",
       "      <td>1.0</td>\n",
       "      <td>1.000000</td>\n",
       "      <td>1.000000</td>\n",
       "      <td>3.00</td>\n",
       "    </tr>\n",
       "    <tr>\n",
       "      <th>9</th>\n",
       "      <th>399</th>\n",
       "      <td>1.0</td>\n",
       "      <td>0.568783</td>\n",
       "      <td>0.648148</td>\n",
       "      <td>2.22</td>\n",
       "    </tr>\n",
       "    <tr>\n",
       "      <th>15</th>\n",
       "      <th>10</th>\n",
       "      <td>1.0</td>\n",
       "      <td>1.000000</td>\n",
       "      <td>1.000000</td>\n",
       "      <td>3.00</td>\n",
       "    </tr>\n",
       "    <tr>\n",
       "      <th>17</th>\n",
       "      <th>13</th>\n",
       "      <td>1.0</td>\n",
       "      <td>1.000000</td>\n",
       "      <td>1.000000</td>\n",
       "      <td>3.00</td>\n",
       "    </tr>\n",
       "    <tr>\n",
       "      <th>20</th>\n",
       "      <th>18</th>\n",
       "      <td>1.0</td>\n",
       "      <td>1.000000</td>\n",
       "      <td>1.000000</td>\n",
       "      <td>3.00</td>\n",
       "    </tr>\n",
       "    <tr>\n",
       "      <th>...</th>\n",
       "      <th>...</th>\n",
       "      <td>...</td>\n",
       "      <td>...</td>\n",
       "      <td>...</td>\n",
       "      <td>...</td>\n",
       "    </tr>\n",
       "    <tr>\n",
       "      <th>301</th>\n",
       "      <th>471</th>\n",
       "      <td>1.0</td>\n",
       "      <td>1.000000</td>\n",
       "      <td>1.000000</td>\n",
       "      <td>3.00</td>\n",
       "    </tr>\n",
       "    <tr>\n",
       "      <th>303</th>\n",
       "      <th>475</th>\n",
       "      <td>1.0</td>\n",
       "      <td>1.000000</td>\n",
       "      <td>1.000000</td>\n",
       "      <td>3.00</td>\n",
       "    </tr>\n",
       "    <tr>\n",
       "      <th>309</th>\n",
       "      <th>481</th>\n",
       "      <td>1.0</td>\n",
       "      <td>1.000000</td>\n",
       "      <td>1.000000</td>\n",
       "      <td>3.00</td>\n",
       "    </tr>\n",
       "    <tr>\n",
       "      <th>315</th>\n",
       "      <th>495</th>\n",
       "      <td>1.0</td>\n",
       "      <td>1.000000</td>\n",
       "      <td>1.000000</td>\n",
       "      <td>3.00</td>\n",
       "    </tr>\n",
       "    <tr>\n",
       "      <th>318</th>\n",
       "      <th>498</th>\n",
       "      <td>1.0</td>\n",
       "      <td>1.000000</td>\n",
       "      <td>1.000000</td>\n",
       "      <td>3.00</td>\n",
       "    </tr>\n",
       "  </tbody>\n",
       "</table>\n",
       "<p>87 rows × 4 columns</p>\n",
       "</div>"
      ],
      "text/plain": [
       "         jw_name  jw_address   jw_city  total\n",
       "1   1        1.0    1.000000  1.000000   3.00\n",
       "9   399      1.0    0.568783  0.648148   2.22\n",
       "15  10       1.0    1.000000  1.000000   3.00\n",
       "17  13       1.0    1.000000  1.000000   3.00\n",
       "20  18       1.0    1.000000  1.000000   3.00\n",
       "...          ...         ...       ...    ...\n",
       "301 471      1.0    1.000000  1.000000   3.00\n",
       "303 475      1.0    1.000000  1.000000   3.00\n",
       "309 481      1.0    1.000000  1.000000   3.00\n",
       "315 495      1.0    1.000000  1.000000   3.00\n",
       "318 498      1.0    1.000000  1.000000   3.00\n",
       "\n",
       "[87 rows x 4 columns]"
      ]
     },
     "execution_count": 37,
     "metadata": {},
     "output_type": "execute_result"
    }
   ],
   "source": [
    "# create a column with the sum of all similarity values rounded at the second decimal\n",
    "features['total'] = features.sum(axis=1).round(2)\n",
    "features"
   ]
  },
  {
   "cell_type": "code",
   "execution_count": 38,
   "metadata": {},
   "outputs": [
    {
     "data": {
      "text/plain": [
       "count    87.000000\n",
       "mean      2.429655\n",
       "std       0.612111\n",
       "min       0.520000\n",
       "25%       2.280000\n",
       "50%       2.360000\n",
       "75%       3.000000\n",
       "max       3.000000\n",
       "Name: total, dtype: float64"
      ]
     },
     "execution_count": 38,
     "metadata": {},
     "output_type": "execute_result"
    }
   ],
   "source": [
    "# check the distribution\n",
    "features['total'].describe()"
   ]
  },
  {
   "cell_type": "code",
   "execution_count": 39,
   "metadata": {},
   "outputs": [
    {
     "data": {
      "image/png": "[encoded data removed]",
      "text/plain": [
       "<Figure size 640x480 with 1 Axes>"
      ]
     },
     "metadata": {},
     "output_type": "display_data"
    }
   ],
   "source": [
    "# plot distribution\n",
    "#import matplotlib.pyplot as plt\n",
    "\n",
    "%matplotlib inline\n",
    "features.hist(column=\"total\", bins=100);"
   ]
  },
  {
   "cell_type": "code",
   "execution_count": 40,
   "metadata": {},
   "outputs": [
    {
     "name": "stdout",
     "output_type": "stream",
     "text": [
      "total\n",
      "3.00    28\n",
      "2.96     1\n",
      "2.92     1\n",
      "2.91     1\n",
      "2.89     1\n",
      "2.68     1\n",
      "2.65     1\n",
      "2.63     1\n",
      "2.57     1\n",
      "2.50     1\n",
      "2.49     1\n",
      "2.42     1\n",
      "2.40     1\n",
      "2.38     2\n",
      "2.36    19\n",
      "2.31     1\n",
      "2.29     2\n",
      "2.28     3\n",
      "2.27     1\n",
      "2.26     1\n",
      "2.24     1\n",
      "2.22     1\n",
      "2.21     1\n",
      "2.08     1\n",
      "2.07     1\n",
      "2.06     1\n",
      "2.02     1\n",
      "1.95     1\n",
      "1.91     1\n",
      "1.79     1\n",
      "1.38     1\n",
      "1.04     1\n",
      "1.01     1\n",
      "0.93     1\n",
      "0.92     1\n",
      "0.60     1\n",
      "0.55     1\n",
      "0.52     1\n",
      "Name: count, dtype: int64\n"
     ]
    }
   ],
   "source": [
    "# get counts\n",
    "count = features[\"total\"].value_counts()\n",
    "print(count.sort_index(ascending=False))"
   ]
  },
  {
   "cell_type": "code",
   "execution_count": 41,
   "metadata": {},
   "outputs": [
    {
     "name": "stdout",
     "output_type": "stream",
     "text": [
      "Threshold-based approach: 79 matches\n"
     ]
    }
   ],
   "source": [
    "# set a thresold to classify\n",
    "thr_matches = features[(features[\"total\"] >= 1.5)]\n",
    "print(\"Threshold-based approach: {} matches\".format(len(thr_matches)))"
   ]
  },
  {
   "cell_type": "code",
   "execution_count": 42,
   "metadata": {},
   "outputs": [
    {
     "data": {
      "text/html": [
       "<div>\n",
       "<style scoped>\n",
       "    .dataframe tbody tr th:only-of-type {\n",
       "        vertical-align: middle;\n",
       "    }\n",
       "\n",
       "    .dataframe tbody tr th {\n",
       "        vertical-align: top;\n",
       "    }\n",
       "\n",
       "    .dataframe thead th {\n",
       "        text-align: right;\n",
       "    }\n",
       "</style>\n",
       "<table border=\"1\" class=\"dataframe\">\n",
       "  <thead>\n",
       "    <tr style=\"text-align: right;\">\n",
       "      <th></th>\n",
       "      <th></th>\n",
       "      <th>jw_name</th>\n",
       "      <th>jw_address</th>\n",
       "      <th>jw_city</th>\n",
       "      <th>total</th>\n",
       "    </tr>\n",
       "  </thead>\n",
       "  <tbody>\n",
       "    <tr>\n",
       "      <th>1</th>\n",
       "      <th>1</th>\n",
       "      <td>1.0</td>\n",
       "      <td>1.000000</td>\n",
       "      <td>1.000000</td>\n",
       "      <td>3.00</td>\n",
       "    </tr>\n",
       "    <tr>\n",
       "      <th>9</th>\n",
       "      <th>399</th>\n",
       "      <td>1.0</td>\n",
       "      <td>0.568783</td>\n",
       "      <td>0.648148</td>\n",
       "      <td>2.22</td>\n",
       "    </tr>\n",
       "    <tr>\n",
       "      <th>15</th>\n",
       "      <th>10</th>\n",
       "      <td>1.0</td>\n",
       "      <td>1.000000</td>\n",
       "      <td>1.000000</td>\n",
       "      <td>3.00</td>\n",
       "    </tr>\n",
       "    <tr>\n",
       "      <th>17</th>\n",
       "      <th>13</th>\n",
       "      <td>1.0</td>\n",
       "      <td>1.000000</td>\n",
       "      <td>1.000000</td>\n",
       "      <td>3.00</td>\n",
       "    </tr>\n",
       "    <tr>\n",
       "      <th>20</th>\n",
       "      <th>18</th>\n",
       "      <td>1.0</td>\n",
       "      <td>1.000000</td>\n",
       "      <td>1.000000</td>\n",
       "      <td>3.00</td>\n",
       "    </tr>\n",
       "    <tr>\n",
       "      <th>...</th>\n",
       "      <th>...</th>\n",
       "      <td>...</td>\n",
       "      <td>...</td>\n",
       "      <td>...</td>\n",
       "      <td>...</td>\n",
       "    </tr>\n",
       "    <tr>\n",
       "      <th>301</th>\n",
       "      <th>471</th>\n",
       "      <td>1.0</td>\n",
       "      <td>1.000000</td>\n",
       "      <td>1.000000</td>\n",
       "      <td>3.00</td>\n",
       "    </tr>\n",
       "    <tr>\n",
       "      <th>303</th>\n",
       "      <th>475</th>\n",
       "      <td>1.0</td>\n",
       "      <td>1.000000</td>\n",
       "      <td>1.000000</td>\n",
       "      <td>3.00</td>\n",
       "    </tr>\n",
       "    <tr>\n",
       "      <th>309</th>\n",
       "      <th>481</th>\n",
       "      <td>1.0</td>\n",
       "      <td>1.000000</td>\n",
       "      <td>1.000000</td>\n",
       "      <td>3.00</td>\n",
       "    </tr>\n",
       "    <tr>\n",
       "      <th>315</th>\n",
       "      <th>495</th>\n",
       "      <td>1.0</td>\n",
       "      <td>1.000000</td>\n",
       "      <td>1.000000</td>\n",
       "      <td>3.00</td>\n",
       "    </tr>\n",
       "    <tr>\n",
       "      <th>318</th>\n",
       "      <th>498</th>\n",
       "      <td>1.0</td>\n",
       "      <td>1.000000</td>\n",
       "      <td>1.000000</td>\n",
       "      <td>3.00</td>\n",
       "    </tr>\n",
       "  </tbody>\n",
       "</table>\n",
       "<p>79 rows × 4 columns</p>\n",
       "</div>"
      ],
      "text/plain": [
       "         jw_name  jw_address   jw_city  total\n",
       "1   1        1.0    1.000000  1.000000   3.00\n",
       "9   399      1.0    0.568783  0.648148   2.22\n",
       "15  10       1.0    1.000000  1.000000   3.00\n",
       "17  13       1.0    1.000000  1.000000   3.00\n",
       "20  18       1.0    1.000000  1.000000   3.00\n",
       "...          ...         ...       ...    ...\n",
       "301 471      1.0    1.000000  1.000000   3.00\n",
       "303 475      1.0    1.000000  1.000000   3.00\n",
       "309 481      1.0    1.000000  1.000000   3.00\n",
       "315 495      1.0    1.000000  1.000000   3.00\n",
       "318 498      1.0    1.000000  1.000000   3.00\n",
       "\n",
       "[79 rows x 4 columns]"
      ]
     },
     "execution_count": 42,
     "metadata": {},
     "output_type": "execute_result"
    }
   ],
   "source": [
    "thr_matches"
   ]
  },
  {
   "cell_type": "markdown",
   "metadata": {},
   "source": [
    "**Rule-based Linkage:**"
   ]
  },
  {
   "cell_type": "code",
   "execution_count": 45,
   "metadata": {},
   "outputs": [],
   "source": [
    "rule_matches = features[(features[\"jw_name\"] > 0.7) &\n",
    "                        (features[\"jw_city\"] > 0.7) &\n",
    "                        (features[\"jw_address\"] > 0.8)]"
   ]
  },
  {
   "cell_type": "code",
   "execution_count": 46,
   "metadata": {},
   "outputs": [
    {
     "name": "stdout",
     "output_type": "stream",
     "text": [
      "35\n"
     ]
    },
    {
     "data": {
      "text/html": [
       "<div>\n",
       "<style scoped>\n",
       "    .dataframe tbody tr th:only-of-type {\n",
       "        vertical-align: middle;\n",
       "    }\n",
       "\n",
       "    .dataframe tbody tr th {\n",
       "        vertical-align: top;\n",
       "    }\n",
       "\n",
       "    .dataframe thead th {\n",
       "        text-align: right;\n",
       "    }\n",
       "</style>\n",
       "<table border=\"1\" class=\"dataframe\">\n",
       "  <thead>\n",
       "    <tr style=\"text-align: right;\">\n",
       "      <th></th>\n",
       "      <th></th>\n",
       "      <th>jw_name</th>\n",
       "      <th>jw_address</th>\n",
       "      <th>jw_city</th>\n",
       "      <th>total</th>\n",
       "    </tr>\n",
       "  </thead>\n",
       "  <tbody>\n",
       "    <tr>\n",
       "      <th>1</th>\n",
       "      <th>1</th>\n",
       "      <td>1.0</td>\n",
       "      <td>1.0</td>\n",
       "      <td>1.0</td>\n",
       "      <td>3.0</td>\n",
       "    </tr>\n",
       "    <tr>\n",
       "      <th>15</th>\n",
       "      <th>10</th>\n",
       "      <td>1.0</td>\n",
       "      <td>1.0</td>\n",
       "      <td>1.0</td>\n",
       "      <td>3.0</td>\n",
       "    </tr>\n",
       "    <tr>\n",
       "      <th>17</th>\n",
       "      <th>13</th>\n",
       "      <td>1.0</td>\n",
       "      <td>1.0</td>\n",
       "      <td>1.0</td>\n",
       "      <td>3.0</td>\n",
       "    </tr>\n",
       "    <tr>\n",
       "      <th>20</th>\n",
       "      <th>18</th>\n",
       "      <td>1.0</td>\n",
       "      <td>1.0</td>\n",
       "      <td>1.0</td>\n",
       "      <td>3.0</td>\n",
       "    </tr>\n",
       "    <tr>\n",
       "      <th>21</th>\n",
       "      <th>19</th>\n",
       "      <td>1.0</td>\n",
       "      <td>1.0</td>\n",
       "      <td>1.0</td>\n",
       "      <td>3.0</td>\n",
       "    </tr>\n",
       "  </tbody>\n",
       "</table>\n",
       "</div>"
      ],
      "text/plain": [
       "       jw_name  jw_address  jw_city  total\n",
       "1  1       1.0         1.0      1.0    3.0\n",
       "15 10      1.0         1.0      1.0    3.0\n",
       "17 13      1.0         1.0      1.0    3.0\n",
       "20 18      1.0         1.0      1.0    3.0\n",
       "21 19      1.0         1.0      1.0    3.0"
      ]
     },
     "execution_count": 46,
     "metadata": {},
     "output_type": "execute_result"
    }
   ],
   "source": [
    "print(len(rule_matches))\n",
    "rule_matches.head()"
   ]
  },
  {
   "cell_type": "code",
   "execution_count": 47,
   "metadata": {},
   "outputs": [
    {
     "data": {
      "text/html": [
       "<div>\n",
       "<style scoped>\n",
       "    .dataframe tbody tr th:only-of-type {\n",
       "        vertical-align: middle;\n",
       "    }\n",
       "\n",
       "    .dataframe tbody tr th {\n",
       "        vertical-align: top;\n",
       "    }\n",
       "\n",
       "    .dataframe thead th {\n",
       "        text-align: right;\n",
       "    }\n",
       "</style>\n",
       "<table border=\"1\" class=\"dataframe\">\n",
       "  <thead>\n",
       "    <tr style=\"text-align: right;\">\n",
       "      <th></th>\n",
       "      <th>name</th>\n",
       "      <th>address</th>\n",
       "      <th>city</th>\n",
       "    </tr>\n",
       "  </thead>\n",
       "  <tbody>\n",
       "    <tr>\n",
       "      <th>1</th>\n",
       "      <td>arnie mortons of chicago</td>\n",
       "      <td>435 s la cienega blvd</td>\n",
       "      <td>los angeles</td>\n",
       "    </tr>\n",
       "    <tr>\n",
       "      <th>17</th>\n",
       "      <td>campanile</td>\n",
       "      <td>624 s la brea ave</td>\n",
       "      <td>los angeles</td>\n",
       "    </tr>\n",
       "    <tr>\n",
       "      <th>15</th>\n",
       "      <td>cafe bizou</td>\n",
       "      <td>14016 ventura blvd</td>\n",
       "      <td>sherman oaks</td>\n",
       "    </tr>\n",
       "  </tbody>\n",
       "</table>\n",
       "</div>"
      ],
      "text/plain": [
       "                        name                address          city\n",
       "1   arnie mortons of chicago  435 s la cienega blvd   los angeles\n",
       "17                 campanile      624 s la brea ave   los angeles\n",
       "15                cafe bizou     14016 ventura blvd  sherman oaks"
      ]
     },
     "metadata": {},
     "output_type": "display_data"
    },
    {
     "data": {
      "text/html": [
       "<div>\n",
       "<style scoped>\n",
       "    .dataframe tbody tr th:only-of-type {\n",
       "        vertical-align: middle;\n",
       "    }\n",
       "\n",
       "    .dataframe tbody tr th {\n",
       "        vertical-align: top;\n",
       "    }\n",
       "\n",
       "    .dataframe thead th {\n",
       "        text-align: right;\n",
       "    }\n",
       "</style>\n",
       "<table border=\"1\" class=\"dataframe\">\n",
       "  <thead>\n",
       "    <tr style=\"text-align: right;\">\n",
       "      <th></th>\n",
       "      <th>name</th>\n",
       "      <th>address</th>\n",
       "      <th>city</th>\n",
       "    </tr>\n",
       "  </thead>\n",
       "  <tbody>\n",
       "    <tr>\n",
       "      <th>1</th>\n",
       "      <td>arnie mortons of chicago</td>\n",
       "      <td>435 s la cienega blvd</td>\n",
       "      <td>los angeles</td>\n",
       "    </tr>\n",
       "    <tr>\n",
       "      <th>13</th>\n",
       "      <td>campanile</td>\n",
       "      <td>624 s la brea ave</td>\n",
       "      <td>los angeles</td>\n",
       "    </tr>\n",
       "    <tr>\n",
       "      <th>10</th>\n",
       "      <td>cafe bizou</td>\n",
       "      <td>14016 ventura blvd</td>\n",
       "      <td>sherman oaks</td>\n",
       "    </tr>\n",
       "  </tbody>\n",
       "</table>\n",
       "</div>"
      ],
      "text/plain": [
       "                        name                address          city\n",
       "1   arnie mortons of chicago  435 s la cienega blvd   los angeles\n",
       "13                 campanile      624 s la brea ave   los angeles\n",
       "10                cafe bizou     14016 ventura blvd  sherman oaks"
      ]
     },
     "metadata": {},
     "output_type": "display_data"
    }
   ],
   "source": [
    "# check pairs of candidate links that have high score\n",
    "from IPython.display import display\n",
    "display(zagat_clean.iloc[[1, 17, 15]])\n",
    "display(fodor_clean.iloc[[1, 13, 10]])"
   ]
  },
  {
   "cell_type": "code",
   "execution_count": 48,
   "metadata": {},
   "outputs": [
    {
     "data": {
      "text/plain": [
       "(np.int64(17), np.int64(13))"
      ]
     },
     "execution_count": 48,
     "metadata": {},
     "output_type": "execute_result"
    }
   ],
   "source": [
    "# access the 3rd pair of indicees \n",
    "rule_matches.index[2]"
   ]
  },
  {
   "cell_type": "code",
   "execution_count": 49,
   "metadata": {},
   "outputs": [
    {
     "data": {
      "text/plain": [
       "np.int64(17)"
      ]
     },
     "execution_count": 49,
     "metadata": {},
     "output_type": "execute_result"
    }
   ],
   "source": [
    "# pull the 3rd index for the zagat_clean df\n",
    "rule_matches.index[2][0]"
   ]
  },
  {
   "cell_type": "code",
   "execution_count": 50,
   "metadata": {},
   "outputs": [
    {
     "data": {
      "text/plain": [
       "np.int64(13)"
      ]
     },
     "execution_count": 50,
     "metadata": {},
     "output_type": "execute_result"
    }
   ],
   "source": [
    "# pull the 3rd index for the fodor_clean df\n",
    "rule_matches.index[2][1]"
   ]
  },
  {
   "cell_type": "code",
   "execution_count": 51,
   "metadata": {},
   "outputs": [],
   "source": [
    "# store results in a list\n",
    "zagat_results = []\n",
    "\n",
    "# for every match in rule_matches.index  \n",
    "for match in rule_matches.index:   \n",
    "    #print(match[0])\n",
    "    \n",
    "    # get the location in the original dataset, and convert to a df\n",
    "    df = pd.DataFrame(zagat_clean.loc[[match[0]]])  # get zagat index\n",
    "    zagat_results.append(df)"
   ]
  },
  {
   "cell_type": "code",
   "execution_count": 52,
   "metadata": {},
   "outputs": [
    {
     "name": "stdout",
     "output_type": "stream",
     "text": [
      "35\n"
     ]
    }
   ],
   "source": [
    "print(len(zagat_results))"
   ]
  },
  {
   "cell_type": "code",
   "execution_count": 53,
   "metadata": {},
   "outputs": [
    {
     "data": {
      "text/html": [
       "<div>\n",
       "<style scoped>\n",
       "    .dataframe tbody tr th:only-of-type {\n",
       "        vertical-align: middle;\n",
       "    }\n",
       "\n",
       "    .dataframe tbody tr th {\n",
       "        vertical-align: top;\n",
       "    }\n",
       "\n",
       "    .dataframe thead th {\n",
       "        text-align: right;\n",
       "    }\n",
       "</style>\n",
       "<table border=\"1\" class=\"dataframe\">\n",
       "  <thead>\n",
       "    <tr style=\"text-align: right;\">\n",
       "      <th></th>\n",
       "      <th>name</th>\n",
       "      <th>address</th>\n",
       "      <th>city</th>\n",
       "    </tr>\n",
       "  </thead>\n",
       "  <tbody>\n",
       "    <tr>\n",
       "      <th>1</th>\n",
       "      <td>arnie mortons of chicago</td>\n",
       "      <td>435 s la cienega blvd</td>\n",
       "      <td>los angeles</td>\n",
       "    </tr>\n",
       "    <tr>\n",
       "      <th>15</th>\n",
       "      <td>cafe bizou</td>\n",
       "      <td>14016 ventura blvd</td>\n",
       "      <td>sherman oaks</td>\n",
       "    </tr>\n",
       "    <tr>\n",
       "      <th>17</th>\n",
       "      <td>campanile</td>\n",
       "      <td>624 s la brea ave</td>\n",
       "      <td>los angeles</td>\n",
       "    </tr>\n",
       "    <tr>\n",
       "      <th>20</th>\n",
       "      <td>chinois on main</td>\n",
       "      <td>2709 main st</td>\n",
       "      <td>santa monica</td>\n",
       "    </tr>\n",
       "    <tr>\n",
       "      <th>21</th>\n",
       "      <td>citrus</td>\n",
       "      <td>6703 melrose ave</td>\n",
       "      <td>los angeles</td>\n",
       "    </tr>\n",
       "  </tbody>\n",
       "</table>\n",
       "</div>"
      ],
      "text/plain": [
       "                        name                address          city\n",
       "1   arnie mortons of chicago  435 s la cienega blvd   los angeles\n",
       "15                cafe bizou     14016 ventura blvd  sherman oaks\n",
       "17                 campanile      624 s la brea ave   los angeles\n",
       "20           chinois on main           2709 main st  santa monica\n",
       "21                    citrus       6703 melrose ave   los angeles"
      ]
     },
     "execution_count": 53,
     "metadata": {},
     "output_type": "execute_result"
    }
   ],
   "source": [
    "# turn lists to df\n",
    "zagat_new = pd.concat(zagat_results)\n",
    "zagat_new.head()"
   ]
  },
  {
   "cell_type": "code",
   "execution_count": 54,
   "metadata": {},
   "outputs": [
    {
     "data": {
      "text/html": [
       "<div>\n",
       "<style scoped>\n",
       "    .dataframe tbody tr th:only-of-type {\n",
       "        vertical-align: middle;\n",
       "    }\n",
       "\n",
       "    .dataframe tbody tr th {\n",
       "        vertical-align: top;\n",
       "    }\n",
       "\n",
       "    .dataframe thead th {\n",
       "        text-align: right;\n",
       "    }\n",
       "</style>\n",
       "<table border=\"1\" class=\"dataframe\">\n",
       "  <thead>\n",
       "    <tr style=\"text-align: right;\">\n",
       "      <th></th>\n",
       "      <th>name</th>\n",
       "      <th>address</th>\n",
       "      <th>city</th>\n",
       "    </tr>\n",
       "  </thead>\n",
       "  <tbody>\n",
       "    <tr>\n",
       "      <th>1</th>\n",
       "      <td>arnie mortons of chicago</td>\n",
       "      <td>435 s la cienega blvd</td>\n",
       "      <td>los angeles</td>\n",
       "    </tr>\n",
       "    <tr>\n",
       "      <th>10</th>\n",
       "      <td>cafe bizou</td>\n",
       "      <td>14016 ventura blvd</td>\n",
       "      <td>sherman oaks</td>\n",
       "    </tr>\n",
       "    <tr>\n",
       "      <th>13</th>\n",
       "      <td>campanile</td>\n",
       "      <td>624 s la brea ave</td>\n",
       "      <td>los angeles</td>\n",
       "    </tr>\n",
       "    <tr>\n",
       "      <th>18</th>\n",
       "      <td>chinois on main</td>\n",
       "      <td>2709 main st</td>\n",
       "      <td>santa monica</td>\n",
       "    </tr>\n",
       "    <tr>\n",
       "      <th>19</th>\n",
       "      <td>citrus</td>\n",
       "      <td>6703 melrose ave</td>\n",
       "      <td>los angeles</td>\n",
       "    </tr>\n",
       "  </tbody>\n",
       "</table>\n",
       "</div>"
      ],
      "text/plain": [
       "                        name                address          city\n",
       "1   arnie mortons of chicago  435 s la cienega blvd   los angeles\n",
       "10                cafe bizou     14016 ventura blvd  sherman oaks\n",
       "13                 campanile      624 s la brea ave   los angeles\n",
       "18           chinois on main           2709 main st  santa monica\n",
       "19                    citrus       6703 melrose ave   los angeles"
      ]
     },
     "execution_count": 54,
     "metadata": {},
     "output_type": "execute_result"
    }
   ],
   "source": [
    "fodor_results = []\n",
    "\n",
    "for match in rule_matches.index: \n",
    "    df = pd.DataFrame(fodor_clean.loc[[match[1]]])  # get fodor index this time\n",
    "    fodor_results.append(df)\n",
    "    \n",
    "fodor_new = pd.concat(fodor_results)\n",
    "fodor_new.head()"
   ]
  },
  {
   "cell_type": "code",
   "execution_count": 55,
   "metadata": {},
   "outputs": [],
   "source": [
    "# reset index\n",
    "zagat_new = zagat_new.reset_index()\n",
    "fodor_new = fodor_new.reset_index()\n",
    "\n",
    "# combine them\n",
    "matched_records = pd.concat([zagat_new, fodor_new], \n",
    "                            axis=1)  # axis=1 to concatenate horizontally"
   ]
  },
  {
   "cell_type": "code",
   "execution_count": 56,
   "metadata": {},
   "outputs": [
    {
     "data": {
      "text/html": [
       "<div>\n",
       "<style scoped>\n",
       "    .dataframe tbody tr th:only-of-type {\n",
       "        vertical-align: middle;\n",
       "    }\n",
       "\n",
       "    .dataframe tbody tr th {\n",
       "        vertical-align: top;\n",
       "    }\n",
       "\n",
       "    .dataframe thead th {\n",
       "        text-align: right;\n",
       "    }\n",
       "</style>\n",
       "<table border=\"1\" class=\"dataframe\">\n",
       "  <thead>\n",
       "    <tr style=\"text-align: right;\">\n",
       "      <th></th>\n",
       "      <th>index</th>\n",
       "      <th>name</th>\n",
       "      <th>address</th>\n",
       "      <th>city</th>\n",
       "      <th>index</th>\n",
       "      <th>name</th>\n",
       "      <th>address</th>\n",
       "      <th>city</th>\n",
       "    </tr>\n",
       "  </thead>\n",
       "  <tbody>\n",
       "    <tr>\n",
       "      <th>0</th>\n",
       "      <td>1</td>\n",
       "      <td>arnie mortons of chicago</td>\n",
       "      <td>435 s la cienega blvd</td>\n",
       "      <td>los angeles</td>\n",
       "      <td>1</td>\n",
       "      <td>arnie mortons of chicago</td>\n",
       "      <td>435 s la cienega blvd</td>\n",
       "      <td>los angeles</td>\n",
       "    </tr>\n",
       "    <tr>\n",
       "      <th>1</th>\n",
       "      <td>15</td>\n",
       "      <td>cafe bizou</td>\n",
       "      <td>14016 ventura blvd</td>\n",
       "      <td>sherman oaks</td>\n",
       "      <td>10</td>\n",
       "      <td>cafe bizou</td>\n",
       "      <td>14016 ventura blvd</td>\n",
       "      <td>sherman oaks</td>\n",
       "    </tr>\n",
       "    <tr>\n",
       "      <th>2</th>\n",
       "      <td>17</td>\n",
       "      <td>campanile</td>\n",
       "      <td>624 s la brea ave</td>\n",
       "      <td>los angeles</td>\n",
       "      <td>13</td>\n",
       "      <td>campanile</td>\n",
       "      <td>624 s la brea ave</td>\n",
       "      <td>los angeles</td>\n",
       "    </tr>\n",
       "    <tr>\n",
       "      <th>3</th>\n",
       "      <td>20</td>\n",
       "      <td>chinois on main</td>\n",
       "      <td>2709 main st</td>\n",
       "      <td>santa monica</td>\n",
       "      <td>18</td>\n",
       "      <td>chinois on main</td>\n",
       "      <td>2709 main st</td>\n",
       "      <td>santa monica</td>\n",
       "    </tr>\n",
       "    <tr>\n",
       "      <th>4</th>\n",
       "      <td>21</td>\n",
       "      <td>citrus</td>\n",
       "      <td>6703 melrose ave</td>\n",
       "      <td>los angeles</td>\n",
       "      <td>19</td>\n",
       "      <td>citrus</td>\n",
       "      <td>6703 melrose ave</td>\n",
       "      <td>los angeles</td>\n",
       "    </tr>\n",
       "  </tbody>\n",
       "</table>\n",
       "</div>"
      ],
      "text/plain": [
       "   index                      name                address          city  \\\n",
       "0      1  arnie mortons of chicago  435 s la cienega blvd   los angeles   \n",
       "1     15                cafe bizou     14016 ventura blvd  sherman oaks   \n",
       "2     17                 campanile      624 s la brea ave   los angeles   \n",
       "3     20           chinois on main           2709 main st  santa monica   \n",
       "4     21                    citrus       6703 melrose ave   los angeles   \n",
       "\n",
       "   index                      name                address          city  \n",
       "0      1  arnie mortons of chicago  435 s la cienega blvd   los angeles  \n",
       "1     10                cafe bizou     14016 ventura blvd  sherman oaks  \n",
       "2     13                 campanile      624 s la brea ave   los angeles  \n",
       "3     18           chinois on main           2709 main st  santa monica  \n",
       "4     19                    citrus       6703 melrose ave   los angeles  "
      ]
     },
     "execution_count": 56,
     "metadata": {},
     "output_type": "execute_result"
    }
   ],
   "source": [
    "matched_records.head()"
   ]
  },
  {
   "cell_type": "markdown",
   "metadata": {},
   "source": [
    "<b>Question 5: Evaluate your classification methods</b>\n",
    "\n",
    "* Compute and compare the performance of each of the two methods you chose in question 4.\n",
    "* Add a few sentences (in Markdown) to interpret the results and explain your strategy/choices."
   ]
  },
  {
   "cell_type": "markdown",
   "metadata": {},
   "source": [
    "**Explaination:**\n",
    "\n",
    "First, setting up true matches (n=29).\n"
   ]
  },
  {
   "cell_type": "code",
   "execution_count": 57,
   "metadata": {},
   "outputs": [
    {
     "name": "stderr",
     "output_type": "stream",
     "text": [
      "/var/folders/7h/mx7nc7vj63551qp5lczzf1lr0000gn/T/ipykernel_5751/663953196.py:4: DeprecationWarning: The argument 'on' is deprecated. Use 'left_on=...' and 'right_on=None' to simulate the behaviour of 'on'.\n",
      "  indexer_bl = Block(on=[\"name\", \"address\"])\n"
     ]
    }
   ],
   "source": [
    "# set up true matches\n",
    "#indexer_bl = recordlinkage.BlockIndex(on=[\"name\", \"address\"])\n",
    "\n",
    "indexer_bl = Block(on=[\"name\", \"address\"])"
   ]
  },
  {
   "cell_type": "code",
   "execution_count": 58,
   "metadata": {},
   "outputs": [],
   "source": [
    "# create a pandas MultiIndex with candidate links (e.g. true matches)\n",
    "true_matches = indexer_bl.index(zagat_clean, fodor_clean)"
   ]
  },
  {
   "cell_type": "code",
   "execution_count": 59,
   "metadata": {},
   "outputs": [
    {
     "data": {
      "text/plain": [
       "29"
      ]
     },
     "execution_count": 59,
     "metadata": {},
     "output_type": "execute_result"
    }
   ],
   "source": [
    "# how many true matches?\n",
    "len(true_matches)"
   ]
  },
  {
   "cell_type": "markdown",
   "metadata": {},
   "source": [
    "**threshold classifer**"
   ]
  },
  {
   "cell_type": "code",
   "execution_count": 69,
   "metadata": {},
   "outputs": [
    {
     "data": {
      "text/plain": [
       "79"
      ]
     },
     "execution_count": 69,
     "metadata": {},
     "output_type": "execute_result"
    }
   ],
   "source": [
    "len(thr_matches)"
   ]
  },
  {
   "cell_type": "code",
   "execution_count": 71,
   "metadata": {},
   "outputs": [
    {
     "data": {
      "text/plain": [
       "array([[29,  0],\n",
       "       [50,  8]])"
      ]
     },
     "execution_count": 71,
     "metadata": {},
     "output_type": "execute_result"
    }
   ],
   "source": [
    "# confusion matrix\n",
    "confusion_matrix_thr = recordlinkage.confusion_matrix(links_true = true_matches, \n",
    "                                                  links_pred = thr_matches, \n",
    "                                                  total = len(features))\n",
    "confusion_matrix_thr"
   ]
  },
  {
   "cell_type": "markdown",
   "metadata": {},
   "source": [
    "|  | <b>Predicted Positives</b> | <b>Predicted Negatives</b>  |\n",
    "| :- | -: | :-: |\n",
    "| <b>True Positives</b> | True Positives TP | False Negatives FN |\n",
    "| <b>True Negatives</b> | False Positives FP | True Negatives TN |\n"
   ]
  },
  {
   "cell_type": "markdown",
   "metadata": {},
   "source": [
    "This returns a numpy array with the following values: \n",
    "* 29 True Positives (TP)\n",
    "* 0 False Positive (FB)\n",
    "* 50 False Negative (FN)\n",
    "* 8 True Negative (TN)"
   ]
  },
  {
   "cell_type": "code",
   "execution_count": 72,
   "metadata": {},
   "outputs": [
    {
     "name": "stdout",
     "output_type": "stream",
     "text": [
      "Precision: 0.3670886075949367\n",
      "Recall: 1.0\n",
      "F-score 0.5370370370370371\n"
     ]
    }
   ],
   "source": [
    "print(\"Precision:\", recordlinkage.precision(confusion_matrix_thr))\n",
    "print(\"Recall:\", recordlinkage.recall(confusion_matrix_thr))\n",
    "print(\"F-score\", recordlinkage.fscore(confusion_matrix_thr))"
   ]
  },
  {
   "cell_type": "markdown",
   "metadata": {},
   "source": [
    "**rule classifier**"
   ]
  },
  {
   "cell_type": "code",
   "execution_count": 73,
   "metadata": {},
   "outputs": [
    {
     "data": {
      "text/plain": [
       "35"
      ]
     },
     "execution_count": 73,
     "metadata": {},
     "output_type": "execute_result"
    }
   ],
   "source": [
    "# how many matches found by our rule classifier?\n",
    "len(rule_matches)"
   ]
  },
  {
   "cell_type": "code",
   "execution_count": 74,
   "metadata": {},
   "outputs": [
    {
     "data": {
      "text/plain": [
       "array([[28,  1],\n",
       "       [ 7, 51]])"
      ]
     },
     "execution_count": 74,
     "metadata": {},
     "output_type": "execute_result"
    }
   ],
   "source": [
    "# confusion matrix\n",
    "confusion_matrix = recordlinkage.confusion_matrix(links_true = true_matches, \n",
    "                                                  links_pred = rule_matches, \n",
    "                                                  total = len(features))\n",
    "confusion_matrix"
   ]
  },
  {
   "cell_type": "markdown",
   "metadata": {},
   "source": [
    "|  | <b>Predicted Positives</b> | <b>Predicted Negatives</b>  |\n",
    "| :- | -: | :-: |\n",
    "| <b>True Positives</b> | True Positives TP | False Negatives FN |\n",
    "| <b>True Negatives</b> | False Positives FP | True Negatives TN |\n"
   ]
  },
  {
   "cell_type": "markdown",
   "metadata": {},
   "source": [
    "This returns a numpy array with the following values: \n",
    "* 28 True Positives (TP)\n",
    "* 1 False Positive (FB)\n",
    "* 7 False Negative (FN)\n",
    "* 51 True Negative (TN)"
   ]
  },
  {
   "cell_type": "code",
   "execution_count": 75,
   "metadata": {},
   "outputs": [
    {
     "name": "stdout",
     "output_type": "stream",
     "text": [
      "Precision: 0.8\n",
      "Recall: 0.9655172413793104\n",
      "F-score 0.8750000000000001\n"
     ]
    }
   ],
   "source": [
    "print(\"Precision:\", recordlinkage.precision(confusion_matrix))\n",
    "print(\"Recall:\", recordlinkage.recall(confusion_matrix))\n",
    "print(\"F-score\", recordlinkage.fscore(confusion_matrix))"
   ]
  },
  {
   "cell_type": "markdown",
   "metadata": {},
   "source": [
    "<b>Question 6: Summarize in a few sentences what you learned from this exercise and quote the resources you used. Thanks!</b>"
   ]
  },
  {
   "cell_type": "markdown",
   "metadata": {},
   "source": [
    "I got a pretty high evaluation score (precision, recall, F-score). However, I am still not sure if I over-linked or under-linked compared to the one we did in classroom. I would love to have some answers for this."
   ]
  }
 ],
 "metadata": {
  "kernelspec": {
   "display_name": "Python 3 (ipykernel)",
   "language": "python",
   "name": "python3"
  },
  "language_info": {
   "codemirror_mode": {
    "name": "ipython",
    "version": 3
   },
   "file_extension": ".py",
   "mimetype": "text/x-python",
   "name": "python",
   "nbconvert_exporter": "python",
   "pygments_lexer": "ipython3",
   "version": "3.12.4"
  }
 },
 "nbformat": 4,
 "nbformat_minor": 2
}
