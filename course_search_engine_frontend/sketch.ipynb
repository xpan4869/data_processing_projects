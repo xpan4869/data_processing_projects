{
 "cells": [
  {
   "cell_type": "code",
   "execution_count": 2,
   "metadata": {},
   "outputs": [],
   "source": [
    "from math import radians, cos, sin, asin, sqrt, ceil\n",
    "import sqlite3\n",
    "import os\n",
    "\n",
    "# Use this filename for the database\n",
    "DATA_DIR = os.getcwd()\n",
    "DATABASE_FILENAME = os.path.join(DATA_DIR, 'course_information.sqlite3')"
   ]
  },
  {
   "cell_type": "code",
   "execution_count": null,
   "metadata": {},
   "outputs": [],
   "source": [
    "def assert_valid_input(args_from_ui):\n",
    "    '''\n",
    "    Verify that the input conforms to the standards set in the\n",
    "    assignment.\n",
    "    '''\n",
    "\n",
    "    assert isinstance(args_from_ui, dict)\n",
    "\n",
    "    acceptable_keys = set(['time_start', 'time_end', 'enrollment', 'dept',\n",
    "                           'terms', 'day', 'building_code', 'walking_time'])\n",
    "    assert set(args_from_ui.keys()).issubset(acceptable_keys)\n",
    "\n",
    "    # get both buiding_code and walking_time or neither\n",
    "    has_building = (\"building_code\" in args_from_ui and\n",
    "                    \"walking_time\" in args_from_ui)\n",
    "    does_not_have_building = (\"building_code\" not in args_from_ui and\n",
    "                              \"walking_time\" not in args_from_ui)\n",
    "\n",
    "    assert has_building or does_not_have_building\n",
    "\n",
    "    assert isinstance(args_from_ui.get(\"building_code\", \"\"), str)\n",
    "    assert isinstance(args_from_ui.get(\"walking_time\", 0), int)\n",
    "\n",
    "    # day is a list of strings, if it exists\n",
    "    assert isinstance(args_from_ui.get(\"day\", []), (list, tuple))\n",
    "    assert all([isinstance(s, str) for s in args_from_ui.get(\"day\", [])])\n",
    "\n",
    "    assert isinstance(args_from_ui.get(\"dept\", \"\"), str)\n",
    "\n",
    "    # terms is a non-empty list of strings, if it exists\n",
    "    terms = args_from_ui.get(\"terms\", [\"\"])\n",
    "    assert terms\n",
    "    assert isinstance(terms, (list, tuple))\n",
    "    assert all([isinstance(s, str) for s in terms])\n",
    "\n",
    "    assert isinstance(args_from_ui.get(\"time_start\", 0), int)\n",
    "    assert args_from_ui.get(\"time_start\", 0) >= 0\n",
    "\n",
    "    assert isinstance(args_from_ui.get(\"time_end\", 0), int)\n",
    "    assert args_from_ui.get(\"time_end\", 0) < 2400\n",
    "\n",
    "    # enrollment is a pair of integers, if it exists\n",
    "    enrollment_val = args_from_ui.get(\"enrollment\", [0, 0])\n",
    "    assert isinstance(enrollment_val, (list, tuple))\n",
    "    assert len(enrollment_val) == 2\n",
    "    assert all([isinstance(i, int) for i in enrollment_val])\n",
    "    assert enrollment_val[0] <= enrollment_val[1]\n",
    "\n",
    "\n",
    "def compute_time_between(lon1, lat1, lon2, lat2):\n",
    "    '''\n",
    "    Converts the output of the haversine formula to walking time in minutes\n",
    "    '''\n",
    "    meters = haversine(lon1, lat1, lon2, lat2)\n",
    "\n",
    "    # adjusted downwards to account for manhattan distance\n",
    "    walk_speed_m_per_sec = 1.1\n",
    "    mins = meters / (walk_speed_m_per_sec * 60)\n",
    "\n",
    "    return int(ceil(mins))\n",
    "\n",
    "\n",
    "def haversine(lon1, lat1, lon2, lat2):\n",
    "    '''\n",
    "    Calculate the circle distance between two points\n",
    "    on the earth (specified in decimal degrees)\n",
    "    '''\n",
    "    # convert decimal degrees to radians\n",
    "    lon1, lat1, lon2, lat2 = map(radians, [lon1, lat1, lon2, lat2])\n",
    "\n",
    "    # haversine formula\n",
    "    dlon = lon2 - lon1\n",
    "    dlat = lat2 - lat1\n",
    "    a = sin(dlat / 2)**2 + cos(lat1) * cos(lat2) * sin(dlon / 2)**2\n",
    "    c = 2 * asin(sqrt(a))\n",
    "\n",
    "    # 6367 km is the radius of the Earth\n",
    "    km = 6367 * c\n",
    "    m = km * 1000\n",
    "    return m\n",
    "\n",
    "\n",
    "def get_header(cursor):\n",
    "    '''\n",
    "    Given a cursor object, returns the appropriate header (column names)\n",
    "    '''\n",
    "    header = []\n",
    "\n",
    "    for i in cursor.description:\n",
    "        s = i[0]\n",
    "        if \".\" in s:\n",
    "            s = s[s.find(\".\")+1:]\n",
    "        header.append(s)\n",
    "\n",
    "    return header\n"
   ]
  },
  {
   "cell_type": "code",
   "execution_count": 3,
   "metadata": {},
   "outputs": [],
   "source": [
    "x = {'terms': ['hadoop']}"
   ]
  },
  {
   "cell_type": "code",
   "execution_count": 4,
   "metadata": {},
   "outputs": [],
   "source": [
    "y = {'terms': ['computer', 'science', 'economics']}"
   ]
  },
  {
   "cell_type": "code",
   "execution_count": 5,
   "metadata": {},
   "outputs": [],
   "source": [
    "FIELD_MAPPING_TABLE = {\n",
    "    \"dept\": \"courses.dept\",\n",
    "    \"day\": \"meeting_patterns.day\",\n",
    "    \"time_start\": \"meeting_patterns.time_start\",\n",
    "    \"time_end\": \"meeting_patterns.time_end\",\n",
    "    \"building_code\": \"sections.building_code\",\n",
    "    \"walking_time\": \"walking_time\", # need furthur calculation\n",
    "    \"enrollment\": \"sections.enrollment\",\n",
    "    \"title\": 'courses.title',\n",
    "    \"section_num\": 'sections.section_num',\n",
    "    \"course_num\": 'courses.course_num'\n",
    "    }"
   ]
  },
  {
   "cell_type": "code",
   "execution_count": 6,
   "metadata": {},
   "outputs": [],
   "source": [
    "def compute_projection(args_from_ui):\n",
    "    \"\"\"\n",
    "    computes the attributes that go in the projection\n",
    "    \"\"\"\n",
    "    columns = ['dept', 'course_num', 'title']\n",
    "    fields = [FIELD_MAPPING_TABLE[x] for x in columns]\n",
    "\n",
    "    if any(key in args_from_ui for key in [\"building_code\", \"walking_time\"]):\n",
    "        extra_columns = ['section_num', 'day', 'time_start', 'time_end', 'enrollment', 'building_code', 'walking_time']\n",
    "        lst = [FIELD_MAPPING_TABLE[x] for x in extra_columns[:-2]]\n",
    "        fields.extend(lst)\n",
    "        fields.append('sections.building_code')\n",
    "        fields.append(\"compute_time_between(gps.lon, gps.lat, target.lon, target.lat) AS walking_time\")\n",
    "        columns.extend(extra_columns)\n",
    "    \n",
    "    elif any(key in args_from_ui for key in [\"day\", \"time_start\", \"time_end\", \"enrollment\"]):\n",
    "        extra_columns = ['section_num', 'day', 'time_start', 'time_end', 'enrollment']\n",
    "        lst = [FIELD_MAPPING_TABLE[x] for x in extra_columns]\n",
    "        fields.extend(lst)\n",
    "        columns.extend(extra_columns)\n",
    "\n",
    "    return ', '.join(fields), columns"
   ]
  },
  {
   "cell_type": "code",
   "execution_count": 7,
   "metadata": {},
   "outputs": [
    {
     "name": "stdout",
     "output_type": "stream",
     "text": [
      "('courses.dept, courses.course_num, courses.title', ['dept', 'course_num', 'title'])\n",
      "('courses.dept, courses.course_num, courses.title', ['dept', 'course_num', 'title'])\n"
     ]
    }
   ],
   "source": [
    "print(compute_projection(x))\n",
    "print(compute_projection(y))"
   ]
  },
  {
   "cell_type": "code",
   "execution_count": 26,
   "metadata": {},
   "outputs": [],
   "source": [
    "def compute_join(args_from_ui):\n",
    "    \"\"\"\n",
    "    write the FROM, ON, JOIN queries\n",
    "\n",
    "    (to compute relations and join conditions)\n",
    "    \"\"\"\n",
    "    query = \" courses\"\n",
    "    params = []\n",
    "\n",
    "    if len(args_from_ui) == 1 and 'dept' in args_from_ui:\n",
    "        return query, params\n",
    "    \n",
    "        query += \" LEFT JOIN sections ON courses.course_id = sections.course_id\"\n",
    "    if any(key in args_from_ui for key in [\"day\", \"time_start\", \"time_end\", \"enrollment\", \"building_code\", \"walking_time\"]):\n",
    "        query += \" JOIN meeting_patterns ON sections.meeting_pattern_id = meeting_patterns.meeting_pattern_id\"\n",
    "    if 'terms' in args_from_ui:\n",
    "        query += \" JOIN catalog_index ON courses.course_id = catalog_index.course_id\"\n",
    "    if any(key in args_from_ui for key in [\"building_code\", \"walking_time\"]):\n",
    "        query += \" JOIN gps ON sections.building_code = gps.building_code\"\n",
    "        query += \" JOIN gps AS target ON target.building_code = ?\"\n",
    "        params.append(args_from_ui['building_code'])\n",
    "    return query, params"
   ]
  },
  {
   "cell_type": "code",
   "execution_count": 27,
   "metadata": {},
   "outputs": [
    {
     "name": "stdout",
     "output_type": "stream",
     "text": [
      "(' courses JOIN catalog_index ON courses.course_id = catalog_index.course_id', [])\n",
      "(' courses JOIN catalog_index ON courses.course_id = catalog_index.course_id', [])\n"
     ]
    }
   ],
   "source": [
    "print(compute_join(x))\n",
    "print(compute_join(y))"
   ]
  },
  {
   "cell_type": "code",
   "execution_count": 28,
   "metadata": {},
   "outputs": [],
   "source": [
    "def compute_conditions(args_from_ui):\n",
    "    \"\"\"\n",
    "    write the WHERE queries\n",
    "    return clause, arguments\n",
    "    \"\"\"\n",
    "    condition = []\n",
    "    params = []\n",
    "    group_by_clause = ''\n",
    "    base_conditions = {\n",
    "        'terms': ' IN ({})',\n",
    "        'dept': ' = ?',\n",
    "        'day': ' IN ({})',\n",
    "        'enrollment': ' BETWEEN ? AND ?',\n",
    "        'time_start': ' >= ?',\n",
    "        'time_end': ' <= ?',\n",
    "        'walking_time': ' <= ?'\n",
    "    }\n",
    "\n",
    "    for key, value in args_from_ui.items():\n",
    "        if value and key in base_conditions:\n",
    "            if key in ('terms', 'day'):\n",
    "                placeholder = ', '.join(['?' for _ in value])\n",
    "                if key == 'terms':\n",
    "                    condition.append(f' catalog_index.word IN ({placeholder})')\n",
    "                    group_by_clause = f' GROUP BY sections.section_id'\n",
    "                    if len(value) > 1:\n",
    "                        group_by_clause += f' HAVING COUNT(DISTINCT catalog_index.word) >= {len(value)}'\n",
    "                else:\n",
    "                    condition.append(f'{FIELD_MAPPING_TABLE[key]} {base_conditions[key].format(placeholder)}')\n",
    "                params.extend(value)\n",
    "            else:\n",
    "                condition.append(f'{FIELD_MAPPING_TABLE[key]} {base_conditions[key]}')\n",
    "                if isinstance(value, (list, tuple)):\n",
    "                    params.extend(value) \n",
    "                else:\n",
    "                    params.append(value)\n",
    "    query = ''\n",
    "    if condition:\n",
    "        query = 'WHERE ' + ' AND '.join(condition)\n",
    "    if group_by_clause:\n",
    "        query += group_by_clause\n",
    "\n",
    "    return query, params"
   ]
  },
  {
   "cell_type": "code",
   "execution_count": 29,
   "metadata": {},
   "outputs": [
    {
     "name": "stdout",
     "output_type": "stream",
     "text": [
      "('WHERE  catalog_index.word IN (?) GROUP BY sections.section_id', ['hadoop'])\n",
      "('WHERE  catalog_index.word IN (?, ?, ?) GROUP BY sections.section_id HAVING COUNT(DISTINCT catalog_index.word) >= 3', ['computer', 'science', 'economics'])\n"
     ]
    }
   ],
   "source": [
    "print(compute_conditions(x))\n",
    "print(compute_conditions(y))"
   ]
  },
  {
   "cell_type": "code",
   "execution_count": 32,
   "metadata": {},
   "outputs": [
    {
     "data": {
      "text/plain": [
       "[('CMSC', '12100', 'Computer Science with Applications I.'),\n",
       " ('CMSC', '12200', 'Computer Science with Applications II.'),\n",
       " ('CMSC', '12200', 'Computer Science with Applications II.'),\n",
       " ('CMSC', '12300', 'Computer Science with Applications III.'),\n",
       " ('HIPS', '29615', 'Tutorial: The Social Sciences in Post-War America.')]"
      ]
     },
     "execution_count": 32,
     "metadata": {},
     "output_type": "execute_result"
    }
   ],
   "source": [
    "conn = sqlite3.connect(DATABASE_FILENAME)\n",
    "conn.create_function(\"compute_time_between\", 4, compute_time_between)\n",
    "cur = conn.cursor()\n",
    "\n",
    "cur.execute(\"SELECT courses.dept, courses.course_num, courses.title FROM courses LEFT JOIN sections ON courses.course_id = sections.course_id LEFT JOIN catalog_index ON courses.course_id = catalog_index.course_id WHERE catalog_index.word IN (?, ?, ?) GROUP BY courses.course_id, sections.section_id HAVING COUNT(DISTINCT catalog_index.word) >= 3\", ['computer', 'science', 'economics']).fetchall()"
   ]
  }
 ],
 "metadata": {
  "kernelspec": {
   "display_name": "macs30122",
   "language": "python",
   "name": "python3"
  },
  "language_info": {
   "codemirror_mode": {
    "name": "ipython",
    "version": 3
   },
   "file_extension": ".py",
   "mimetype": "text/x-python",
   "name": "python",
   "nbconvert_exporter": "python",
   "pygments_lexer": "ipython3",
   "version": "3.12.4"
  }
 },
 "nbformat": 4,
 "nbformat_minor": 2
}
