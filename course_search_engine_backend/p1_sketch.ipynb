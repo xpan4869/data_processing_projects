{
 "cells": [
  {
   "cell_type": "code",
   "execution_count": 35,
   "metadata": {},
   "outputs": [],
   "source": [
    "import queue\n",
    "import json\n",
    "import sys\n",
    "import csv\n",
    "import re\n",
    "import bs4\n",
    "import util"
   ]
  },
  {
   "cell_type": "code",
   "execution_count": 3,
   "metadata": {},
   "outputs": [],
   "source": [
    "starting_url = (\"http://www.classes.cs.uchicago.edu/archive/2015/winter\"\n",
    "                    \"/12200-1/new.collegecatalog.uchicago.edu/index.html\")\n",
    "\n",
    "limiting_domain = \"classes.cs.uchicago.edu\""
   ]
  },
  {
   "cell_type": "code",
   "execution_count": 33,
   "metadata": {},
   "outputs": [
    {
     "data": {
      "text/plain": [
       "['http://www.classes.cs.uchicago.edu/archive/2015/winter/12200-1/new.collegecatalog.uchicago.edu/thecollege/programsofstudy.1.html',\n",
       " 'http://www.classes.cs.uchicago.edu/archive/2015/winter/12200-1/new.collegecatalog.uchicago.edu/thecollege/thecurriculum.1.html',\n",
       " 'http://www.classes.cs.uchicago.edu/archive/2015/winter/12200-1/new.collegecatalog.uchicago.edu/thecollege/preparationforprofessionalstudy/index.html',\n",
       " 'http://www.classes.cs.uchicago.edu/archive/2015/winter/12200-1/new.collegecatalog.uchicago.edu/index.html',\n",
       " 'http://www.classes.cs.uchicago.edu/archive/2015/winter/12200-1/new.collegecatalog.uchicago.edu/thecollege/jointdegreeprograms/index.html',\n",
       " 'http://www.classes.cs.uchicago.edu/archive/2015/winter/12200-1/new.collegecatalog.uchicago.edu/thecollege/introduction/index.html',\n",
       " 'http://www.classes.cs.uchicago.edu/archive/2015/winter/12200-1/new.collegecatalog.uchicago.edu/thecollege/researchopportunities/index.html',\n",
       " 'http://www.classes.cs.uchicago.edu/archive/2015/winter/12200-1/new.collegecatalog.uchicago.edu/azindex/index.html',\n",
       " 'http://www.classes.cs.uchicago.edu/archive/2015/winter/12200-1/new.collegecatalog.uchicago.edu/thecollege/academicregulationsprocedures/index.html',\n",
       " 'http://www.classes.cs.uchicago.edu/archive/2015/winter/12200-1/new.collegecatalog.uchicago.edu/thecollege/offcampusstudyprograms.1.html',\n",
       " 'http://www.classes.cs.uchicago.edu/archive/2015/winter/12200-1/new.collegecatalog.uchicago.edu/thecollege/interdisciplinaryopportunities/index.html',\n",
       " 'http://www.classes.cs.uchicago.edu/archive/2015/winter/12200-1/new.collegecatalog.uchicago.edu/thecollege/examinationcreditandtransfercredit.1.html',\n",
       " 'http://www.classes.cs.uchicago.edu/archive/2015/winter/12200-1/new.collegecatalog.uchicago.edu/thecollege/contacts/index.html']"
      ]
     },
     "execution_count": 33,
     "metadata": {},
     "output_type": "execute_result"
    }
   ],
   "source": [
    "request = util.get_request(starting_url)\n",
    "requeset_text = util.read_request(request)\n",
    "\n",
    "soup = bs(requeset_text)\n",
    "urls_on_intro = soup.find_all(\"a\")\n",
    "links = set()\n",
    "for link in urls_on_intro:\n",
    "    href = link.get('href')\n",
    "    if href:\n",
    "        absolute_url = util.convert_if_relative_url(starting_url, href)\n",
    "        if util.is_url_ok_to_follow(absolute_url, limiting_domain):\n",
    "            links.add(absolute_url)\n",
    "list(links)"
   ]
  },
  {
   "cell_type": "code",
   "execution_count": null,
   "metadata": {},
   "outputs": [],
   "source": []
  },
  {
   "cell_type": "code",
   "execution_count": 69,
   "metadata": {},
   "outputs": [],
   "source": [
    "def process_page(url):\n",
    "    \n",
    "    request = util.get_request(url)\n",
    "    if request is None:\n",
    "        return []\n",
    "    \n",
    "    html = util.read_request(request)\n",
    "    if not html:\n",
    "        return []\n",
    "    soup = bs4.BeautifulSoup(html, 'html.parser')\n",
    "    return soup\n",
    "\n",
    "def extract_links(soup, current_url, limiting_domain = 1000):\n",
    "    links = set()\n",
    "   \n",
    "    for link in soup.find_all('a'):\n",
    "        href = link.get('href')\n",
    "        if href:\n",
    "            absolute_url = util.convert_if_relative_url(current_url, href)\n",
    "            if absolute_url and util.is_url_ok_to_follow(absolute_url, limiting_domain):\n",
    "                links.add(absolute_url)\n",
    "    \n",
    "    return links"
   ]
  },
  {
   "cell_type": "code",
   "execution_count": 72,
   "metadata": {},
   "outputs": [],
   "source": [
    "starting_url = (\"http://www.classes.cs.uchicago.edu/archive/2015/winter\"\n",
    "                \"/12200-1/new.collegecatalog.uchicago.edu/index.html\")\n",
    "limiting_domain = \"classes.cs.uchicago.edu\"\n",
    "\n",
    "# YOUR CODE HERE\n",
    "url_queue = queue.Queue()\n",
    "visited_urls = set(starting_url)\n",
    "\n",
    "link_hierarchy = {\n",
    "    1: set(),\n",
    "    2: set()\n",
    "    }\n",
    "lv1_soup = process_page(starting_url)\n",
    "lv1_links = extract_links(lv1_soup, starting_url, limiting_domain)\n",
    "link_hierarchy[1].update(lv1_links)\n",
    "for url in lv1_links:\n",
    "    visited_urls.add(url)\n",
    "    lv2_soup = process_page(url)\n",
    "    lv2_links = extract_links(lv2_soup, url, limiting_domain)\n",
    "    for lv2_link in lv2_links:\n",
    "        url_queue.put(lv2_link)\n",
    "    link_hierarchy[2].update(lv2_links) # for tracking\n",
    "\n",
    "while url_queue and len(visited_urls) <= 100:\n",
    "    item = url_queue.get()\n",
    "    visited_urls.add(item)\n",
    "    if item:\n",
    "        process_page(item)"
   ]
  },
  {
   "cell_type": "code",
   "execution_count": 73,
   "metadata": {},
   "outputs": [
    {
     "data": {
      "text/plain": [
       "'http://www.classes.cs.uchicago.edu/archive/2015/winter/12200-1/new.collegecatalog.uchicago.edu/thecollege/jointdegreestat.1.html'"
      ]
     },
     "execution_count": 73,
     "metadata": {},
     "output_type": "execute_result"
    }
   ],
   "source": [
    "url_queue.get()"
   ]
  },
  {
   "cell_type": "code",
   "execution_count": null,
   "metadata": {},
   "outputs": [],
   "source": [
    "antho = 'https://www.classes.cs.uchicago.edu/archive/2015/winter/12200-1/new.collegecatalog.uchicago.edu/thecollege/anthropology/index.html'\n"
   ]
  },
  {
   "cell_type": "code",
   "execution_count": null,
   "metadata": {},
   "outputs": [],
   "source": [
    "def extract_course_codes(title_text):\n",
    "    \"\"\"\n",
    "    Extracts all course codes from a title text, including sequences of any length.\n",
    "    \n",
    "    This function handles cases like:\n",
    "    - Single courses: \"CMSC 12100\"\n",
    "    - Two-course sequences: \"ANTH 20701-20702\"\n",
    "    - Multi-course sequences: \"CMSC 12100-12200-12300-12400\"\n",
    "    \n",
    "    Args:\n",
    "        title_text (str): The course title text containing course codes\n",
    "        \n",
    "    Returns:\n",
    "        list: A list of all course codes found in the text\n",
    "    \"\"\"\n",
    "\n",
    "    pattern = r'((?:\\d{5}(?:-\\d{5})*))'\n",
    "    matches = re.finditer(pattern, title_text)\n",
    "    course_codes = []\n",
    "\n",
    "    for match in matches:\n",
    "        dept = match.group(1)  # Capture the department code (e.g., \"CMSC\")\n",
    "        all_groups = match.groups()\n",
    "        print(all_groups)\n",
    "        for num in all_groups[1:]:\n",
    "            if num:\n",
    "                print(num)\n",
    "        \n",
    "    return course_codes"
   ]
  },
  {
   "cell_type": "code",
   "execution_count": null,
   "metadata": {},
   "outputs": [],
   "source": [
    "extract_course_codes('ANTH 23101-23102-23103. Introduction to Latin American Civilization I-II-III.')"
   ]
  },
  {
   "cell_type": "code",
   "execution_count": null,
   "metadata": {},
   "outputs": [],
   "source": [
    "extract_course_codes('CMSC 12100-12200-12300-12400')"
   ]
  },
  {
   "cell_type": "code",
   "execution_count": null,
   "metadata": {},
   "outputs": [],
   "source": [
    "def process_page(url):\n",
    "    \n",
    "    request = util.get_request(url)\n",
    "    if request is None:\n",
    "        return []\n",
    "    \n",
    "    html = util.read_request(request)\n",
    "    if not html:\n",
    "        return []\n",
    "    soup = bs4.BeautifulSoup(html, 'html.parser')\n",
    "    return soup\n",
    "\n",
    "def extract_links(soup, current_url, limiting_domain):\n",
    "    links = set()\n",
    "   \n",
    "    for link in soup.find_all('a'):\n",
    "        href = link.get('href')\n",
    "        if href:\n",
    "            absolute_url = util.convert_if_relative_url(current_url, href)\n",
    "            if absolute_url and util.is_url_ok_to_follow(absolute_url, limiting_domain):\n",
    "                links.add(absolute_url)\n",
    "    \n",
    "    return links"
   ]
  },
  {
   "cell_type": "code",
   "execution_count": null,
   "metadata": {},
   "outputs": [],
   "source": [
    "def get_valid_words(text):\n",
    "    \"\"\"\n",
    "    Extracts valid words from text, handling all text processing rules.\n",
    "    \n",
    "    This function encapsulates all our word processing logic:\n",
    "    1. Converting to lowercase\n",
    "    2. Finding valid words (starts with a letter and contains only letters, digits, and/or an underscore(_))\n",
    "    3. Removing stop words\n",
    "    \n",
    "    Args:\n",
    "        text (str): The input text to process\n",
    "        \n",
    "    Returns:\n",
    "        set: A set of valid words that aren't in INDEX_IGNORE\n",
    "    \"\"\"\n",
    "    text = text.lower()\n",
    "    words = set(re.findall(r'[a-z][a-z0-9_]*', text))\n",
    "    return words - INDEX_IGNORE\n"
   ]
  },
  {
   "cell_type": "code",
   "execution_count": null,
   "metadata": {},
   "outputs": [],
   "source": [
    "import queue\n",
    "import json\n",
    "import sys\n",
    "import csv\n",
    "import re\n",
    "import bs4\n",
    "import util"
   ]
  },
  {
   "cell_type": "code",
   "execution_count": null,
   "metadata": {},
   "outputs": [],
   "source": [
    "with open('course_map.json', 'r') as f:\n",
    "    course_map = json.load(f)"
   ]
  },
  {
   "cell_type": "code",
   "execution_count": null,
   "metadata": {},
   "outputs": [],
   "source": [
    "word_to_courses = {}\n",
    "soup = process_page('https://www.classes.cs.uchicago.edu/archive/2015/winter/12200-1/new.collegecatalog.uchicago.edu/thecollege/anthropology/index.html')\n",
    "\n",
    "if not soup:\n",
    "    result = {}\n",
    "\n",
    "for block in soup.find_all('div', class_='courseblock main'):\n",
    "    subsequences = util.find_sequence(block)\n",
    "\n",
    "    title_text = block.find('p', class_='courseblocktitle').get_text(strip = True)\n",
    "\n",
    "    course_codes = extract_course_codes(title_text)\n",
    "    print(course_codes)\n",
    "\n",
    "    identifiers = set()\n",
    "    for code in course_codes:\n",
    "        if code in course_map:\n",
    "            identifiers.add(course_map[code])\n",
    "    \n",
    "    descrip_text = block.find('p', class_ = 'courseblockdesc').get_text(strip = True)\n",
    "    all_text = title_text + \" \" + descrip_text\n",
    "\n",
    "    word_list = get_valid_words(all_text)\n",
    "    print('word_list: ', word_list)\n",
    "\n",
    "    for word in word_list:\n",
    "        if word not in word_to_courses:\n",
    "            word_to_courses[word] = identifiers.copy()\n",
    "        else:\n",
    "            word_to_courses[word].update(identifiers)\n",
    "        \n",
    "    if subsequences:\n",
    "        for subsequence in subsequences:\n",
    "            sub_identifiers = set()\n",
    "            sub_title = subsequence.find('p', class_='courseblocktitle').get_text(strip = True)\n",
    "            sub_course_code = extract_course_codes(sub_title)[0]\n",
    "            sub_identifier = course_map[sub_course_code]\n",
    "            sub_identifiers.add(sub_identifier)\n",
    "            sub_discrip = subsequence.find('p', class_ = 'courseblockdesc').get_text(strip = True)\n",
    "            all_text = sub_title + \" \" + sub_discrip\n",
    "            \n",
    "            word_list = get_valid_words(all_text)\n",
    "    \n",
    "            for word in word_list:\n",
    "                if word not in word_to_courses:\n",
    "                    word_to_courses[word] = sub_identifiers\n",
    "                else:\n",
    "                    word_to_courses[word].update(sub_identifiers)\n",
    "\n",
    "\n"
   ]
  },
  {
   "cell_type": "code",
   "execution_count": null,
   "metadata": {},
   "outputs": [],
   "source": [
    "INDEX_IGNORE = set(['a', 'also', 'an', 'and', 'are', 'as', 'at', 'be',\n",
    "                    'but', 'by', 'course', 'for', 'from', 'how', 'i',\n",
    "                    'ii', 'iii', 'in', 'include', 'is', 'not', 'of',\n",
    "                    'on', 'or', 's', 'sequence', 'so', 'social', 'students',\n",
    "                    'such', 'that', 'the', 'their', 'this', 'through', 'to',\n",
    "                    'topics', 'units', 'we', 'were', 'which', 'will', 'with',\n",
    "                    'yet'])"
   ]
  }
 ],
 "metadata": {
  "kernelspec": {
   "display_name": "macs30122",
   "language": "python",
   "name": "python3"
  },
  "language_info": {
   "codemirror_mode": {
    "name": "ipython",
    "version": 3
   },
   "file_extension": ".py",
   "mimetype": "text/x-python",
   "name": "python",
   "nbconvert_exporter": "python",
   "pygments_lexer": "ipython3",
   "version": "3.12.4"
  }
 },
 "nbformat": 4,
 "nbformat_minor": 2
}
